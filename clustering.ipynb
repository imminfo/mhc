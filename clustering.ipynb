{
 "cells": [
  {
   "cell_type": "code",
   "execution_count": 35,
   "metadata": {
    "collapsed": false
   },
   "outputs": [],
   "source": [
    "%matplotlib inline\n",
    "\n",
    "import pandas as pd\n",
    "import numpy as np\n",
    "import seaborn as sns\n",
    "import matplotlib\n",
    "import matplotlib.pyplot as plt\n",
    "\n",
    "from sklearn.manifold import TSNE, MDS\n",
    "\n",
    "import networkx as nx\n",
    "import graphviz\n",
    "import pydotplus\n",
    "from networkx.drawing.nx_pydot import graphviz_layout"
   ]
  },
  {
   "cell_type": "markdown",
   "metadata": {},
   "source": [
    "# Load data and replace outliers with the max value"
   ]
  },
  {
   "cell_type": "code",
   "execution_count": 36,
   "metadata": {
    "collapsed": false
   },
   "outputs": [],
   "source": [
    "df = pd.read_csv(\"data/bdata.csv\")\n",
    "df.loc[df.meas > 50000, \"meas\"] = 50000\n",
    "df.loc[df.mhc == \"HLAA1\", \"mhc\"] = \"HLAA0101\"\n",
    "df.loc[df.mhc == \"HLAA11\", \"mhc\"] = \"HLAA0101\"\n",
    "df.loc[df.mhc == \"HLAA2\", \"mhc\"] = \"HLAA0201\"\n",
    "df.loc[df.mhc == \"HLAA3\", \"mhc\"] = \"HLAA0319\"\n",
    "df.loc[df.mhc == \"HLAA3/11\", \"mhc\"] = \"HLAA0319\"\n",
    "df.loc[df.mhc == \"HLAA26\", \"mhc\"] = \"HLAA2602\"\n",
    "df.loc[df.mhc == \"HLAA24\", \"mhc\"] = \"HLAA2403\"\n",
    "\n",
    "df.loc[df.mhc == \"HLAB44\", \"mhc\"] = \"HLAB4402\"\n",
    "df.loc[df.mhc == \"HLAB51\", \"mhc\"] = \"HLAB5101\"\n",
    "df.loc[df.mhc == \"HLAB7\", \"mhc\"] = \"HLAB0702\"\n",
    "df.loc[df.mhc == \"HLAB27\", \"mhc\"] = \"HLAB2720\"\n",
    "df.loc[df.mhc == \"HLAB8\", \"mhc\"] = \"HLAB0801\"\n",
    "\n",
    "df.loc[df.mhc == \"HLACw1\", \"mhc\"] = \"HLAC0401\"\n",
    "df.loc[df.mhc == \"HLACw4\", \"mhc\"] = \"HLAC0401\"\n",
    "\n",
    "df = df.loc[df.mhc != \"HLAB60\", :]"
   ]
  },
  {
   "cell_type": "markdown",
   "metadata": {},
   "source": [
    "# Load the ProtVec model"
   ]
  },
  {
   "cell_type": "code",
   "execution_count": 37,
   "metadata": {
    "collapsed": false
   },
   "outputs": [
    {
     "name": "stderr",
     "output_type": "stream",
     "text": [
      "/Users/vdn/anaconda/lib/python3.5/site-packages/ipykernel/__main__.py:1: ParserWarning: Falling back to the 'python' engine because the 'c' engine does not support regex separators (separators > 1 char and different from '\\s+' are interpreted as regex); you can avoid this warning by specifying engine='python'.\n",
      "  if __name__ == '__main__':\n"
     ]
    }
   ],
   "source": [
    "protvec_df = pd.read_table(\"data/protvec.csv\", sep = \"\\\\t\", header=None)\n",
    "protvec = {}\n",
    "for ind, row in protvec_df.iterrows():\n",
    "    row = list(row)\n",
    "    row[0] = row[0][1:]\n",
    "    row[-1] = row[-1][:-1]\n",
    "    protvec[row[0]] = np.array(row[1:], dtype=float)"
   ]
  },
  {
   "cell_type": "code",
   "execution_count": 38,
   "metadata": {
    "collapsed": false
   },
   "outputs": [],
   "source": [
    "def pv_vec(seq, protvec=protvec):\n",
    "    res = np.zeros((100, len(seq) - 2), dtype=float)\n",
    "    for i in range(len(seq) - 2):\n",
    "        res[:, i] = protvec[seq[i:i+3]]\n",
    "    return res\n",
    "\n",
    "\n",
    "def pv_sum(seq, protvec=protvec):\n",
    "    res = np.zeros((100,), dtype=float)\n",
    "    for i in range(len(seq) - 2):\n",
    "        res += protvec[seq[i:i+3]]\n",
    "    return res"
   ]
  },
  {
   "cell_type": "markdown",
   "metadata": {},
   "source": [
    "# Load MHC sequences"
   ]
  },
  {
   "cell_type": "code",
   "execution_count": 39,
   "metadata": {
    "collapsed": false,
    "scrolled": true
   },
   "outputs": [
    {
     "data": {
      "text/plain": [
       "['HLAA0201',\n",
       " 'HLAA0211',\n",
       " 'HLAA2402',\n",
       " 'HLAA8001',\n",
       " 'HLAA3001',\n",
       " 'HLAA0202',\n",
       " 'HLAA0101',\n",
       " 'HLAA2301',\n",
       " 'HLAA2603',\n",
       " 'HLAA6801',\n",
       " 'HLAA3101',\n",
       " 'HLAA3201',\n",
       " 'HLAA2403',\n",
       " 'HLAA0207',\n",
       " 'HLAA3301',\n",
       " 'HLAA0319',\n",
       " 'HLAA0216',\n",
       " 'HLAA0217',\n",
       " 'HLAA0203',\n",
       " 'HLAA1101',\n",
       " 'HLAA2602',\n",
       " 'HLAA0210',\n",
       " 'HLAA6823',\n",
       " 'HLAA7401',\n",
       " 'HLAA2501',\n",
       " 'HLAA0219',\n",
       " 'HLAA0206',\n",
       " 'HLAA2902',\n",
       " 'HLAA1102',\n",
       " 'HLAA3215',\n",
       " 'HLAA0302',\n",
       " 'HLAA0212',\n",
       " 'HLAA6901',\n",
       " 'HLAA0301',\n",
       " 'HLAA3002',\n",
       " 'HLAA6601',\n",
       " 'HLAA2601',\n",
       " 'HLAA0250',\n",
       " 'HLAA0204',\n",
       " 'HLAA6802',\n",
       " 'HLAA3207',\n",
       " 'HLAA0205',\n",
       " 'HLAB8301',\n",
       " 'HLAB5802',\n",
       " 'HLAB2701',\n",
       " 'HLAB1503',\n",
       " 'HLAB4801',\n",
       " 'HLAB3501',\n",
       " 'HLAB1401',\n",
       " 'HLAB4403',\n",
       " 'HLAB4601',\n",
       " 'HLAB2702',\n",
       " 'HLAB1501',\n",
       " 'HLAB5201',\n",
       " 'HLAB5301',\n",
       " 'HLAB1509',\n",
       " 'HLAB0803',\n",
       " 'HLAB0802',\n",
       " 'HLAB7301',\n",
       " 'HLAB3901',\n",
       " 'HLAB2710',\n",
       " 'HLAB3701',\n",
       " 'HLAB5801',\n",
       " 'HLAB4002',\n",
       " 'HLAB4201',\n",
       " 'HLAB2704',\n",
       " 'HLAB5401',\n",
       " 'HLAB2705',\n",
       " 'HLAB5101',\n",
       " 'HLAB5701',\n",
       " 'HLAB5702',\n",
       " 'HLAB4001',\n",
       " 'HLAB4402',\n",
       " 'HLAB4013',\n",
       " 'HLAB4506',\n",
       " 'HLAB1402',\n",
       " 'HLAB1542',\n",
       " 'HLAB2720',\n",
       " 'HLAB1502',\n",
       " 'HLAB1801',\n",
       " 'HLAB3503',\n",
       " 'HLAB2706',\n",
       " 'HLAB1517',\n",
       " 'HLAB0702',\n",
       " 'HLAB4501',\n",
       " 'HLAB5703',\n",
       " 'HLAB3801',\n",
       " 'HLAB3508',\n",
       " 'HLAB2703',\n",
       " 'HLAB0801',\n",
       " 'HLAB4202',\n",
       " 'HLAB8101',\n",
       " 'HLAC0602',\n",
       " 'HLAC1502',\n",
       " 'HLAC0303',\n",
       " 'HLAC1402',\n",
       " 'HLAC0802',\n",
       " 'HLAC1203',\n",
       " 'HLAC0501',\n",
       " 'HLAC0702',\n",
       " 'HLAC0401',\n",
       " 'HLAE0103',\n",
       " 'HLAE0101']"
      ]
     },
     "execution_count": 39,
     "metadata": {},
     "output_type": "execute_result"
    }
   ],
   "source": [
    "mhc_df = pd.read_csv(\"data/mhc_seq_imghtla.csv\")\n",
    "list(mhc_df.mhc)"
   ]
  },
  {
   "cell_type": "markdown",
   "metadata": {},
   "source": [
    "# tSNE on MHC"
   ]
  },
  {
   "cell_type": "code",
   "execution_count": 40,
   "metadata": {
    "collapsed": false
   },
   "outputs": [
    {
     "data": {
      "text/plain": [
       "(151928, 7)"
      ]
     },
     "execution_count": 40,
     "metadata": {},
     "output_type": "execute_result"
    }
   ],
   "source": [
    "human_df = df.loc[df.species == \"human\", :]\n",
    "human_df.shape"
   ]
  },
  {
   "cell_type": "code",
   "execution_count": null,
   "metadata": {
    "collapsed": false
   },
   "outputs": [],
   "source": [
    "human_peptide = np.zeros((human_df.shape[0], 100), dtype=np.float)\n",
    "for i, pep in enumerate(human_df.sequence):\n",
    "    human_peptide[i, :] = pv_sum(pep)"
   ]
  },
  {
   "cell_type": "code",
   "execution_count": null,
   "metadata": {
    "collapsed": false
   },
   "outputs": [],
   "source": [
    "# this is madness. MADNESS!!!\n",
    "human_mhc = np.zeros((human_df.shape[0], 100), dtype=np.float)\n",
    "for i, mhc_name in enumerate(human_df.mhc):\n",
    "    try:\n",
    "        human_mhc[i, :] = pv_sum(mhc_df.sequence[mhc_df.mhc == mhc_name].iloc[0])\n",
    "    except Exception:\n",
    "        print(human_df.iloc[i])"
   ]
  },
  {
   "cell_type": "code",
   "execution_count": null,
   "metadata": {
    "collapsed": false
   },
   "outputs": [],
   "source": [
    "human_data = np.hstack([human_peptide, human_mhc])\n",
    "human_data.shape"
   ]
  },
  {
   "cell_type": "code",
   "execution_count": null,
   "metadata": {
    "collapsed": true
   },
   "outputs": [],
   "source": []
  },
  {
   "cell_type": "code",
   "execution_count": null,
   "metadata": {
    "collapsed": false
   },
   "outputs": [],
   "source": [
    "def compute_tsne(perp, data, classes):\n",
    "    tsne = TSNE(perplexity=perp)\n",
    "    vec_tsne = tsne.fit_transform(data)\n",
    "    df_tsne = pd.DataFrame({\"D1\": vec_tsne[:,0], \"D2\": vec_tsne[:,1], \"Class\": classes})\n",
    "    return sns.lmplot(\"D1\", \"D2\", hue = \"Class\", data = df_tsne, fit_reg = False)\n",
    "\n",
    "\n",
    "new_col = []\n",
    "for i, mhc_name in enumerate(mhc_df.mhc):\n",
    "    new_col.append(pv_sum(list(mhc_df.sequence[mhc_df.mhc == mhc_name])[0]))\n",
    "    \n",
    "\n",
    "classes = list(map(lambda x: x[3], mhc_df.mhc))\n",
    "compute_tsne(7, new_col, classes)\n",
    "compute_tsne(15, new_col, classes)\n",
    "compute_tsne(25, new_col, classes)\n",
    "compute_tsne(30, new_col, classes)\n",
    "compute_tsne(35, new_col, classes)"
   ]
  },
  {
   "cell_type": "markdown",
   "metadata": {},
   "source": [
    "# MHC network"
   ]
  },
  {
   "cell_type": "code",
   "execution_count": null,
   "metadata": {
    "collapsed": false
   },
   "outputs": [],
   "source": [
    "sns.countplot(list(map(len, mhc_df.sequence)))"
   ]
  },
  {
   "cell_type": "code",
   "execution_count": null,
   "metadata": {
    "collapsed": true
   },
   "outputs": [],
   "source": [
    "mhc_df.sequence = list(map(lambda x: x[:180], mhc_df.sequence))"
   ]
  },
  {
   "cell_type": "code",
   "execution_count": null,
   "metadata": {
    "collapsed": false
   },
   "outputs": [],
   "source": [
    "import random\n",
    "\n",
    "\n",
    "def hamm_check(alpha, beta, max_dist):\n",
    "    err = 0\n",
    "    for a, b in zip(alpha, beta):\n",
    "        err += a != b\n",
    "        if err >= max_dist:\n",
    "            return False\n",
    "    return True\n",
    "    \n",
    "\n",
    "MAX_DIST = 10\n",
    "\n",
    "G = nx.Graph()\n",
    "\n",
    "mhc_classes = list(map(lambda x: x[3], mhc_df.mhc))\n",
    "\n",
    "edges = []\n",
    "labels = {}\n",
    "color_classes = {x: random.random() for x in mhc_classes}\n",
    "colors = {x: [] for x in color_classes}\n",
    "nodes = {x: [] for x in color_classes}\n",
    "\n",
    "for i in range(len(mhc_df) - 1):\n",
    "    for j in range(i, len(mhc_df)):\n",
    "        if hamm_check(mhc_df.sequence.iloc[i], mhc_df.sequence.iloc[j], MAX_DIST):\n",
    "            edges.append((i, j))\n",
    "            labels[i] = mhc_classes[i]\n",
    "            labels[j] = mhc_classes[j]\n",
    "            colors[mhc_classes[i]].append(colors_classes[mhc_classes[i]])\n",
    "            colors[mhc_classes[j]].append(colors_classes[mhc_classes[j]])\n",
    "            nodes[mhc_classes[i]].append(i)\n",
    "            nodes[mhc_classes[j]].append(j)\n",
    "            G.add_edge(i, j)\n",
    "\n",
    "plt.figure(1, figsize=(12, 7))\n",
    "pos = graphviz_layout(G, prog=\"neato\")\n",
    "for ag in color_classes:\n",
    "    nx.draw_networkx_nodes(G, \n",
    "                           pos,\n",
    "                           nodes[ag],\n",
    "                           node_color=[random.random(), random.random(), random.random()], \n",
    "                           node_size = 100, \n",
    "                           alpha = .5)\n",
    "nx.draw_networkx_labels(G, \n",
    "                        pos, \n",
    "                        labels, \n",
    "                        font_size = 9)\n",
    "nx.draw_networkx_edges(G, pos)"
   ]
  }
 ],
 "metadata": {
  "anaconda-cloud": {},
  "kernelspec": {
   "display_name": "Python [conda root]",
   "language": "python",
   "name": "conda-root-py"
  },
  "language_info": {
   "codemirror_mode": {
    "name": "ipython",
    "version": 3
   },
   "file_extension": ".py",
   "mimetype": "text/x-python",
   "name": "python",
   "nbconvert_exporter": "python",
   "pygments_lexer": "ipython3",
   "version": "3.5.2"
  }
 },
 "nbformat": 4,
 "nbformat_minor": 1
}
