{
 "cells": [
  {
   "cell_type": "code",
   "execution_count": 5,
   "metadata": {
    "collapsed": false
   },
   "outputs": [],
   "source": [
    "%matplotlib inline\n",
    "\n",
    "import pandas as pd\n",
    "import numpy as np\n",
    "import seaborn as sns\n",
    "import matplotlib\n",
    "import matplotlib.pyplot as plt\n",
    "\n",
    "from sklearn.manifold import TSNE, MDS\n",
    "\n",
    "import networkx as nx\n",
    "import graphviz\n",
    "import pydotplus\n",
    "from networkx.drawing.nx_pydot import graphviz_layout"
   ]
  },
  {
   "cell_type": "markdown",
   "metadata": {},
   "source": [
    "# Load data and replace outliers with the max value"
   ]
  },
  {
   "cell_type": "code",
   "execution_count": 6,
   "metadata": {
    "collapsed": true
   },
   "outputs": [],
   "source": [
    "df = pd.read_csv(\"data/bdata.csv\")\n",
    "df.loc[df.meas > 50000, \"meas\"] = 50000\n",
    "df.loc[df.mhc == \"HLAA1\", \"mhc\"] = \"HLAA0101\"\n",
    "df.loc[df.mhc == \"HLAA11\", \"mhc\"] = \"HLAA0101\"\n",
    "df.loc[df.mhc == \"HLAA2\", \"mhc\"] = \"HLAA0201\"\n",
    "df.loc[df.mhc == \"HLAA3\", \"mhc\"] = \"HLAA0319\"\n",
    "df.loc[df.mhc == \"HLAA3/11\", \"mhc\"] = \"HLAA0319\"\n",
    "df.loc[df.mhc == \"HLAA26\", \"mhc\"] = \"HLAA2602\"\n",
    "df.loc[df.mhc == \"HLAB7\", \"mhc\"] = \"HLAB0702\"\n",
    "df.loc[df.mhc == \"HLACw1\", \"mhc\"] = \"HLAC0401\"\n",
    "df.loc[df.mhc == \"HLACw4\", \"mhc\"] = \"HLAC0401\"\n",
    "df.loc[df.mhc == \"HLAB8\", \"mhc\"] = \"HLAB0801\""
   ]
  },
  {
   "cell_type": "markdown",
   "metadata": {},
   "source": [
    "# Load the ProtVec model"
   ]
  },
  {
   "cell_type": "code",
   "execution_count": 7,
   "metadata": {
    "collapsed": false
   },
   "outputs": [
    {
     "name": "stderr",
     "output_type": "stream",
     "text": [
      "/Users/vdn/anaconda/lib/python3.5/site-packages/ipykernel/__main__.py:1: ParserWarning: Falling back to the 'python' engine because the 'c' engine does not support regex separators (separators > 1 char and different from '\\s+' are interpreted as regex); you can avoid this warning by specifying engine='python'.\n",
      "  if __name__ == '__main__':\n"
     ]
    }
   ],
   "source": [
    "protvec_df = pd.read_table(\"data/protvec.csv\", sep = \"\\\\t\", header=None)\n",
    "protvec = {}\n",
    "for ind, row in protvec_df.iterrows():\n",
    "    row = list(row)\n",
    "    row[0] = row[0][1:]\n",
    "    row[-1] = row[-1][:-1]\n",
    "    protvec[row[0]] = np.array(row[1:], dtype=float)"
   ]
  },
  {
   "cell_type": "code",
   "execution_count": 8,
   "metadata": {
    "collapsed": false
   },
   "outputs": [],
   "source": [
    "def pv_vec(seq, protvec=protvec):\n",
    "    res = np.zeros((100, len(seq) - 2), dtype=float)\n",
    "    for i in range(len(seq) - 2):\n",
    "        res[:, i] = protvec[seq[i:i+3]]\n",
    "    return res\n",
    "\n",
    "\n",
    "def pv_sum(seq, protvec=protvec):\n",
    "    res = np.zeros((100,), dtype=float)\n",
    "    for i in range(len(seq) - 2):\n",
    "        res += protvec[seq[i:i+3]]\n",
    "    return res"
   ]
  },
  {
   "cell_type": "markdown",
   "metadata": {},
   "source": [
    "# Load MHC sequences"
   ]
  },
  {
   "cell_type": "code",
   "execution_count": 9,
   "metadata": {
    "collapsed": false
   },
   "outputs": [
    {
     "data": {
      "text/plain": [
       "0      HLAA0201\n",
       "1      HLAA0211\n",
       "2      HLAA2402\n",
       "3      HLAA8001\n",
       "4      HLAA3001\n",
       "5      HLAA0202\n",
       "6      HLAA0101\n",
       "7      HLAA2301\n",
       "8      HLAA2603\n",
       "9      HLAA6801\n",
       "10     HLAA3101\n",
       "11     HLAA3201\n",
       "12     HLAA2403\n",
       "13     HLAA0207\n",
       "14     HLAA3301\n",
       "15     HLAA0319\n",
       "16     HLAA0216\n",
       "17     HLAA0217\n",
       "18     HLAA0203\n",
       "19     HLAA1101\n",
       "20     HLAA2602\n",
       "21     HLAA0210\n",
       "22     HLAA6823\n",
       "23     HLAA7401\n",
       "24     HLAA2501\n",
       "25     HLAA0219\n",
       "26     HLAA0206\n",
       "27     HLAA2902\n",
       "28     HLAA1102\n",
       "29     HLAA3215\n",
       "         ...   \n",
       "73     HLAB4013\n",
       "74     HLAB4506\n",
       "75     HLAB1402\n",
       "76     HLAB1542\n",
       "77     HLAB2720\n",
       "78     HLAB1502\n",
       "79     HLAB1801\n",
       "80     HLAB3503\n",
       "81     HLAB2706\n",
       "82     HLAB1517\n",
       "83     HLAB0702\n",
       "84     HLAB4501\n",
       "85     HLAB5703\n",
       "86     HLAB3801\n",
       "87     HLAB3508\n",
       "88     HLAB2703\n",
       "89     HLAB0801\n",
       "90     HLAB4202\n",
       "91     HLAB8101\n",
       "92     HLAC0602\n",
       "93     HLAC1502\n",
       "94     HLAC0303\n",
       "95     HLAC1402\n",
       "96     HLAC0802\n",
       "97     HLAC1203\n",
       "98     HLAC0501\n",
       "99     HLAC0702\n",
       "100    HLAC0401\n",
       "101    HLAE0103\n",
       "102    HLAE0101\n",
       "Name: mhc, dtype: object"
      ]
     },
     "execution_count": 9,
     "metadata": {},
     "output_type": "execute_result"
    }
   ],
   "source": [
    "mhc_df = pd.read_csv(\"data/mhc_seq_imghtla.csv\")\n",
    "mhc_df.mhc"
   ]
  },
  {
   "cell_type": "markdown",
   "metadata": {},
   "source": [
    "# tSNE on MHC"
   ]
  },
  {
   "cell_type": "code",
   "execution_count": null,
   "metadata": {
    "collapsed": false
   },
   "outputs": [],
   "source": [
    "human_df = df.loc[df.species == \"human\", :]\n",
    "human_df.shape"
   ]
  },
  {
   "cell_type": "code",
   "execution_count": null,
   "metadata": {
    "collapsed": false
   },
   "outputs": [],
   "source": [
    "human_peptide = np.zeros((human_df.shape[0], 100), dtype=np.float)\n",
    "for i, pep in enumerate(human_df.sequence):\n",
    "    human_peptide[i, :] = pv_sum(pep)"
   ]
  },
  {
   "cell_type": "code",
   "execution_count": null,
   "metadata": {
    "collapsed": false
   },
   "outputs": [],
   "source": [
    "# this is madness. MADNESS!!!\n",
    "human_mhc = np.zeros((human_df.shape[0], 100), dtype=np.float)\n",
    "for i, mhc_name in enumerate(human_df.mhc):\n",
    "    try:\n",
    "        human_mhc[i, :] = pv_sum(mhc_df.sequence[mhc_df.mhc == mhc_name].iloc[0])\n",
    "    except Exception:\n",
    "        print(human_df.iloc[i])"
   ]
  },
  {
   "cell_type": "code",
   "execution_count": null,
   "metadata": {
    "collapsed": false
   },
   "outputs": [],
   "source": [
    "human_data = np.hstack([human_peptide, human_mhc])\n",
    "human_data.shape"
   ]
  },
  {
   "cell_type": "code",
   "execution_count": null,
   "metadata": {
    "collapsed": true
   },
   "outputs": [],
   "source": []
  },
  {
   "cell_type": "code",
   "execution_count": null,
   "metadata": {
    "collapsed": false
   },
   "outputs": [],
   "source": [
    "def compute_tsne(perp, data, classes):\n",
    "    tsne = TSNE(perplexity=perp)\n",
    "    vec_tsne = tsne.fit_transform(data)\n",
    "    df_tsne = pd.DataFrame({\"D1\": vec_tsne[:,0], \"D2\": vec_tsne[:,1], \"Class\": classes})\n",
    "    return sns.lmplot(\"D1\", \"D2\", hue = \"Class\", data = df_tsne, fit_reg = False)\n",
    "\n",
    "\n",
    "new_col = []\n",
    "for i, mhc_name in enumerate(mhc_df.mhc):\n",
    "    new_col.append(pv_sum(list(mhc_df.sequence[mhc_df.mhc == mhc_name])[0]))\n",
    "    \n",
    "\n",
    "classes = list(map(lambda x: x[3], mhc_df.mhc))\n",
    "compute_tsne(15, new_col, classes)\n",
    "compute_tsne(25, new_col, classes)\n",
    "compute_tsne(30, new_col, classes)\n",
    "compute_tsne(35, new_col, classes)"
   ]
  },
  {
   "cell_type": "markdown",
   "metadata": {},
   "source": [
    "# MHC network"
   ]
  },
  {
   "cell_type": "code",
   "execution_count": 16,
   "metadata": {
    "collapsed": false
   },
   "outputs": [
    {
     "data": {
      "text/plain": [
       "<matplotlib.axes._subplots.AxesSubplot at 0x11bbb75f8>"
      ]
     },
     "execution_count": 16,
     "metadata": {},
     "output_type": "execute_result"
    },
    {
     "data": {
      "image/png": "[encoded data removed]",
      "text/plain": [
       "<matplotlib.figure.Figure at 0x11bd9df98>"
      ]
     },
     "metadata": {},
     "output_type": "display_data"
    }
   ],
   "source": [
    "sns.countplot(list(map(len, mhc_df.sequence)))"
   ]
  },
  {
   "cell_type": "code",
   "execution_count": 15,
   "metadata": {
    "collapsed": true
   },
   "outputs": [],
   "source": [
    "mhc_df.sequence = list(map(lambda x: x[:180], mhc_df.sequence))"
   ]
  },
  {
   "cell_type": "code",
   "execution_count": 20,
   "metadata": {
    "collapsed": false
   },
   "outputs": [
    {
     "data": {
      "text/plain": [
       "<matplotlib.collections.LineCollection at 0x11b59d3c8>"
      ]
     },
     "execution_count": 20,
     "metadata": {},
     "output_type": "execute_result"
    },
    {
     "data": {
      "image/png": "[encoded data removed]",
      "text/plain": [
       "<matplotlib.figure.Figure at 0x11a572a90>"
      ]
     },
     "metadata": {},
     "output_type": "display_data"
    }
   ],
   "source": [
    "import random\n",
    "\n",
    "\n",
    "def hamm_check(alpha, beta, max_dist):\n",
    "    err = 0\n",
    "    for a, b in zip(alpha, beta):\n",
    "        err += a != b\n",
    "        if err >= max_dist:\n",
    "            return False\n",
    "    return True\n",
    "    \n",
    "\n",
    "MAX_DIST = 3\n",
    "\n",
    "G = nx.Graph()\n",
    "\n",
    "mhc_classes = list(map(lambda x: x[3], mhc_df.mhc))\n",
    "\n",
    "edges = []\n",
    "labels = {}\n",
    "color_classes = {x: random.random() for x in mhc_classes}\n",
    "colors = {x: [] for x in color_classes}\n",
    "nodes = {x: [] for x in color_classes}\n",
    "\n",
    "for i in range(len(mhc_df) - 1):\n",
    "    for j in range(i + 1, len(mhc_df)):\n",
    "        if hamm_check(mhc_df.sequence.iloc[i], mhc_df.sequence.iloc[j], MAX_DIST):\n",
    "            edges.append((i, j))\n",
    "            labels[i] = mhc_classes[i]\n",
    "            labels[j] = mhc_classes[j]\n",
    "            colors[mhc_classes[i]].append(colors_classes[mhc_classes[i]])\n",
    "            colors[mhc_classes[j]].append(colors_classes[mhc_classes[j]])\n",
    "            nodes[mhc_classes[i]].append(i)\n",
    "            nodes[mhc_classes[j]].append(j)\n",
    "            G.add_edge(i, j)\n",
    "\n",
    "plt.figure(1, figsize=(12, 7))\n",
    "pos = graphviz_layout(G, prog=\"neato\")\n",
    "for ag in color_classes:\n",
    "    nx.draw_networkx_nodes(G, \n",
    "                           pos,\n",
    "                           nodes[ag],\n",
    "                           node_color=[random.random(), random.random(), random.random()], \n",
    "                           node_size = 100, \n",
    "                           alpha = .5)\n",
    "nx.draw_networkx_labels(G, \n",
    "                        pos, \n",
    "                        labels, \n",
    "                        font_size = 9)\n",
    "nx.draw_networkx_edges(G, pos)"
   ]
  }
 ],
 "metadata": {
  "anaconda-cloud": {},
  "kernelspec": {
   "display_name": "Python [conda root]",
   "language": "python",
   "name": "conda-root-py"
  },
  "language_info": {
   "codemirror_mode": {
    "name": "ipython",
    "version": 3
   },
   "file_extension": ".py",
   "mimetype": "text/x-python",
   "name": "python",
   "nbconvert_exporter": "python",
   "pygments_lexer": "ipython3",
   "version": "3.5.2"
  }
 },
 "nbformat": 4,
 "nbformat_minor": 1
}
