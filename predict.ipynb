{
 "cells": [
  {
   "cell_type": "code",
   "execution_count": 71,
   "metadata": {
    "collapsed": false
   },
   "outputs": [],
   "source": [
    "%matplotlib inline\n",
    "\n",
    "import pandas as pd\n",
    "import numpy as np\n",
    "import seaborn as sns\n",
    "import matplotlib\n",
    "import matplotlib.pyplot as plt\n",
    "\n",
    "import xgboost as xgb\n",
    "from sklearn.cross_validation import cross_val_score\n",
    "from sklearn.metrics import mean_squared_error, f1_score, roc_auc_score\n",
    "\n",
    "from __future__ import print_function, division"
   ]
  },
  {
   "cell_type": "code",
   "execution_count": 18,
   "metadata": {
    "collapsed": false
   },
   "outputs": [],
   "source": [
    "BIND_THR = 1 - np.log(500) / np.log(50000)\n",
    "\n",
    "def read_df(filepath):\n",
    "    df = pd.read_table(filepath, sep=\"\\t\")\n",
    "\n",
    "    df.loc[df.meas > 50000, \"meas\"] = 50000\n",
    "    df.meas = 1 - np.log(df.meas) / np.log(50000)\n",
    "    \n",
    "    df.mhc = list(map(lambda x: x.replace(\"-\", \"\"), df.mhc))\n",
    "    df.mhc = list(map(lambda x: x.replace(\":\", \"\"), df.mhc))\n",
    "    df.mhc = list(map(lambda x: x.replace(\"*\", \"\"), df.mhc))\n",
    "\n",
    "    df.loc[df.mhc == \"HLAA1\", \"mhc\"] = \"HLAA0101\"\n",
    "    df.loc[df.mhc == \"HLAA11\", \"mhc\"] = \"HLAA0101\"\n",
    "    df.loc[df.mhc == \"HLAA2\", \"mhc\"] = \"HLAA0201\"\n",
    "    df.loc[df.mhc == \"HLAA3\", \"mhc\"] = \"HLAA0319\"\n",
    "    df.loc[df.mhc == \"HLAA3/11\", \"mhc\"] = \"HLAA0319\"\n",
    "    df.loc[df.mhc == \"HLAA26\", \"mhc\"] = \"HLAA2602\"\n",
    "    df.loc[df.mhc == \"HLAA24\", \"mhc\"] = \"HLAA2403\"\n",
    "\n",
    "    df.loc[df.mhc == \"HLAB44\", \"mhc\"] = \"HLAB4402\"\n",
    "    df.loc[df.mhc == \"HLAB51\", \"mhc\"] = \"HLAB5101\"\n",
    "    df.loc[df.mhc == \"HLAB7\", \"mhc\"] = \"HLAB0702\"\n",
    "    df.loc[df.mhc == \"HLAB27\", \"mhc\"] = \"HLAB2720\"\n",
    "    df.loc[df.mhc == \"HLAB8\", \"mhc\"] = \"HLAB0801\"\n",
    "\n",
    "    df.loc[df.mhc == \"HLACw1\", \"mhc\"] = \"HLAC0401\"\n",
    "    df.loc[df.mhc == \"HLACw4\", \"mhc\"] = \"HLAC0401\"\n",
    "\n",
    "    df = df.loc[df.mhc != \"HLAB60\", :]\n",
    "    return df"
   ]
  },
  {
   "cell_type": "code",
   "execution_count": 13,
   "metadata": {
    "collapsed": false
   },
   "outputs": [
    {
     "name": "stderr",
     "output_type": "stream",
     "text": [
      "/home/vdn/anaconda2/lib/python2.7/site-packages/ipykernel/__main__.py:1: ParserWarning: Falling back to the 'python' engine because the 'c' engine does not support regex separators (separators > 1 char and different from '\\s+' are interpreted as regex); you can avoid this warning by specifying engine='python'.\n",
      "  if __name__ == '__main__':\n"
     ]
    }
   ],
   "source": [
    "protvec_df = pd.read_table(\"data/protvec.csv\", sep = \"\\\\t\", header=None)\n",
    "protvec = {}\n",
    "for ind, row in protvec_df.iterrows():\n",
    "    row = list(row)\n",
    "    row[0] = row[0][1:]\n",
    "    row[-1] = row[-1][:-1]\n",
    "    protvec[row[0]] = np.array(row[1:], dtype=float)\n",
    "    \n",
    "    \n",
    "def pv_vec(seq, protvec=protvec):\n",
    "    res = np.zeros((100, len(seq) - 2), dtype=float)\n",
    "    for i in range(len(seq) - 2):\n",
    "        res[:, i] = protvec[seq[i:i+3]]\n",
    "    return res\n",
    "\n",
    "\n",
    "def pv_sum(seq, protvec=protvec):\n",
    "    res = np.zeros((100,), dtype=float)\n",
    "    for i in range(len(seq) - 2):\n",
    "        res += protvec[seq[i:i+3]]\n",
    "    return res"
   ]
  },
  {
   "cell_type": "code",
   "execution_count": 14,
   "metadata": {
    "collapsed": false
   },
   "outputs": [
    {
     "data": {
      "text/html": [
       "<div>\n",
       "<table border=\"1\" class=\"dataframe\">\n",
       "  <thead>\n",
       "    <tr style=\"text-align: right;\">\n",
       "      <th></th>\n",
       "      <th>mhc</th>\n",
       "      <th>sequence</th>\n",
       "    </tr>\n",
       "  </thead>\n",
       "  <tbody>\n",
       "    <tr>\n",
       "      <th>0</th>\n",
       "      <td>HLAA0201</td>\n",
       "      <td>SHSMRYFFTSVSRPGRGEPRFIAVGYVDDTQFVRFDSDAASQRMEP...</td>\n",
       "    </tr>\n",
       "    <tr>\n",
       "      <th>1</th>\n",
       "      <td>HLAA0211</td>\n",
       "      <td>SHSMRYFFTSVSRPGRGEPRFIAVGYVDDTQFVRFDSDAASQRMEP...</td>\n",
       "    </tr>\n",
       "    <tr>\n",
       "      <th>2</th>\n",
       "      <td>HLAA2402</td>\n",
       "      <td>SHSMRYFSTSVSRPGRGEPRFIAVGYVDDTQFVRFDSDAASQRMEP...</td>\n",
       "    </tr>\n",
       "    <tr>\n",
       "      <th>3</th>\n",
       "      <td>HLAA8001</td>\n",
       "      <td>SHSMRYFFTSVSRPGRGEPRFIAVGYVDDSQFVQFDSDAASQRMEP...</td>\n",
       "    </tr>\n",
       "    <tr>\n",
       "      <th>4</th>\n",
       "      <td>HLAA3001</td>\n",
       "      <td>SHSMRYFSTSVSRPGSGEPRFIAVGYVDDTQFVRFDSDAASQRMEP...</td>\n",
       "    </tr>\n",
       "  </tbody>\n",
       "</table>\n",
       "</div>"
      ],
      "text/plain": [
       "        mhc                                           sequence\n",
       "0  HLAA0201  SHSMRYFFTSVSRPGRGEPRFIAVGYVDDTQFVRFDSDAASQRMEP...\n",
       "1  HLAA0211  SHSMRYFFTSVSRPGRGEPRFIAVGYVDDTQFVRFDSDAASQRMEP...\n",
       "2  HLAA2402  SHSMRYFSTSVSRPGRGEPRFIAVGYVDDTQFVRFDSDAASQRMEP...\n",
       "3  HLAA8001  SHSMRYFFTSVSRPGRGEPRFIAVGYVDDSQFVQFDSDAASQRMEP...\n",
       "4  HLAA3001  SHSMRYFSTSVSRPGSGEPRFIAVGYVDDTQFVRFDSDAASQRMEP..."
      ]
     },
     "execution_count": 14,
     "metadata": {},
     "output_type": "execute_result"
    }
   ],
   "source": [
    "mhc_df = pd.read_csv(\"data/mhc_seq_imghtla.csv\")\n",
    "mhc_df.sequence = list(map(lambda x: x[25:205] if x[0]==\"M\" else x[:180], mhc_df.sequence))\n",
    "mhc_df.head()"
   ]
  },
  {
   "cell_type": "code",
   "execution_count": 20,
   "metadata": {
    "collapsed": false
   },
   "outputs": [
    {
     "name": "stdout",
     "output_type": "stream",
     "text": [
      "(116625, 7)\n",
      "(116625, 200)\n"
     ]
    }
   ],
   "source": [
    "df = read_df(\"data/bdata.2009.tsv\")\n",
    "\n",
    "human_df = df.loc[df.species == \"human\", :]\n",
    "human_df.shape\n",
    "\n",
    "human_peptide = np.zeros((human_df.shape[0], 100), dtype=np.float)\n",
    "for i, pep in enumerate(human_df.sequence):\n",
    "    human_peptide[i, :] = pv_sum(pep)\n",
    "    \n",
    "human_mhc = np.zeros((human_df.shape[0], 100), dtype=np.float)\n",
    "for i, mhc_name in enumerate(human_df.mhc):\n",
    "    try:\n",
    "        human_mhc[i, :] = pv_sum(mhc_df.sequence[mhc_df.mhc == mhc_name].iloc[0])\n",
    "    except Exception:\n",
    "        print(human_df.iloc[i])\n",
    "        break\n",
    "        \n",
    "tra_X = np.hstack([human_peptide, human_mhc])\n",
    "tra_y = human_df.meas\n",
    "\n",
    "print(human_df.shape)\n",
    "print(tra_X.shape)"
   ]
  },
  {
   "cell_type": "code",
   "execution_count": 23,
   "metadata": {
    "collapsed": false
   },
   "outputs": [
    {
     "name": "stdout",
     "output_type": "stream",
     "text": [
      "(25667, 7)\n",
      "(25667, 200)\n"
     ]
    }
   ],
   "source": [
    "df = read_df(\"data/blind.tsv\")\n",
    "\n",
    "human_df = df.loc[df.species == \"human\", :]\n",
    "human_df.shape\n",
    "\n",
    "human_peptide = np.zeros((human_df.shape[0], 100), dtype=np.float)\n",
    "for i, pep in enumerate(human_df.sequence):\n",
    "    human_peptide[i, :] = pv_sum(pep)\n",
    "    \n",
    "human_mhc = np.zeros((human_df.shape[0], 100), dtype=np.float)\n",
    "for i, mhc_name in enumerate(human_df.mhc):\n",
    "    try:\n",
    "        human_mhc[i, :] = pv_sum(mhc_df.sequence[mhc_df.mhc == mhc_name].iloc[0])\n",
    "    except Exception:\n",
    "        print(human_df.iloc[i])\n",
    "        break\n",
    "        \n",
    "tst_X = np.hstack([human_peptide, human_mhc])\n",
    "tst_y = human_df.meas\n",
    "\n",
    "print(human_df.shape)\n",
    "print(tst_X.shape)"
   ]
  },
  {
   "cell_type": "code",
   "execution_count": 85,
   "metadata": {
    "collapsed": false
   },
   "outputs": [
    {
     "name": "stdout",
     "output_type": "stream",
     "text": [
      "train\ttest\n",
      "HLAB4201 3 NA\n",
      "HLAB4001 2718 407 -> 6.68\n",
      "HLAE0101 1 NA\n",
      "HLAB4002 866 74 -> 11.7\n",
      "HLAB2701 2 NA\n",
      "HLAB2702 4 NA\n",
      "HLAA3101 4796 724 -> 6.62\n",
      "HLAB2705 3028 314 -> 9.64\n",
      "HLAB1402 3 NA\n",
      "HLAB4801 861 NA\n",
      "HLAA3301 3040 473 -> 6.43\n",
      "HLAB3901 886 641 -> 1.38\n",
      "HLAB5101 1734 854 -> 2.03\n",
      "HLAB5301 1018 485 -> 2.1\n",
      "HLAA1101 5399 723 -> 7.47\n",
      "HLAA2501 519 416 -> 1.25\n",
      "HLAA0205 56 NA\n",
      "HLAA0206 4827 682 -> 7.08\n",
      "HLAA0207 68 NA\n",
      "HLAA0201 9609 2126 -> 4.52\n",
      "HLAA0202 3919 126 -> 31.1\n",
      "HLAA0203 5542 651 -> 8.51\n",
      "HLAB3501 2397 542 -> 4.42\n",
      "HLAB3503 7 NA\n",
      "HLAB3508 1 NA\n",
      "HLAB1503 429 165 -> 2.6\n",
      "HLAB1517 846 582 -> 1.45\n",
      "HLAB0801 2267 940 -> 2.41\n",
      "HLAB0803 217 234 -> 0.93\n",
      "HLAB0802 487 509 -> 0.96\n",
      "HLAB5701 1857 815 -> 2.28\n",
      "HLAA2902 2397 118 -> 20.31\n",
      "HLAA0101 3799 696 -> 5.46\n",
      "HLAA0219 1203 NA\n",
      "HLAA0216 894 NA\n",
      "HLAA0212 1143 NA\n",
      "HLAA0211 1038 NA\n",
      "HLAA0210 18 NA\n",
      "HLAA3002 1430 420 -> 3.4\n",
      "HLAA3001 2040 660 -> 3.09\n",
      "HLAA0250 132 NA\n",
      "HLAB1509 346 466 -> 0.74\n",
      "HLAA6901 2079 470 -> 4.42\n",
      "HLAA2602 206 413 -> 0.5\n",
      "HLAA2603 205 312 -> 0.66\n",
      "HLAB1501 3213 633 -> 5.08\n",
      "HLAA2601 2894 1333 -> 2.17\n",
      "HLAA3201 640 449 -> 1.43\n",
      "HLAB2703 433 441 -> 0.98\n",
      "HLAA8001 782 379 -> 2.06\n",
      "HLAB5802 42 NA\n",
      "HLAB1502 164 NA\n",
      "HLAB5401 1019 79 -> 12.9\n",
      "HLAB3801 136 351 -> 0.39\n",
      "HLAB5801 2564 445 -> 5.76\n",
      "HLAB7301 115 NA\n",
      "HLAB0702 3476 813 -> 4.28\n",
      "HLAB1801 2052 503 -> 4.08\n",
      "HLAA0301 6141 811 -> 7.57\n",
      "HLAB4403 913 378 -> 2.42\n",
      "HLAB4601 1424 378 -> 3.77\n",
      "HLAA0302 10 NA\n",
      "HLAB4402 1706 411 -> 4.15\n",
      "HLAA6801 3184 527 -> 6.04\n",
      "HLAA2402 2533 573 -> 4.42\n",
      "HLAA2403 1165 NA\n",
      "HLAA6802 4768 669 -> 7.13\n",
      "HLAA2301 2021 391 -> 5.17\n",
      "HLAA6601 4 NA\n",
      "HLAB4501 889 65 -> 13.68\n"
     ]
    }
   ],
   "source": [
    "from collections import Counter\n",
    "\n",
    "df = read_df(\"data/bdata.2009.tsv\")\n",
    "human_df = df.loc[df.species == \"human\", :]\n",
    "tra_counts = Counter(human_df.mhc)\n",
    "\n",
    "df = read_df(\"data/blind.tsv\")\n",
    "human_df = df.loc[df.species == \"human\", :]\n",
    "tst_counts = Counter(human_df.mhc)\n",
    "\n",
    "print(\"train\\ttest\")\n",
    "for key in set(tra_counts.keys()).union(set(tst_counts.keys())):\n",
    "    if key not in tst_counts:\n",
    "        print(key, tra_counts[key], \"NA\")\n",
    "    elif key not in tst_counts:\n",
    "        print(key, \"NA\", tst_counts[key])\n",
    "    else:\n",
    "        print(key, tra_counts[key], tst_counts[key], \"->\", round(tra_counts[key] / tst_counts[key], 2))"
   ]
  },
  {
   "cell_type": "code",
   "execution_count": 91,
   "metadata": {
    "collapsed": false
   },
   "outputs": [],
   "source": [
    "clf = xgb.XGBRegressor(n_estimators=2000, max_depth=10, nthread=14, subsample=.8, learning_rate=.01)\n",
    "#cross_val_score(X=tra_X, y=tra_y, estimator=clf, cv=3, scoring=\"mean_squared_error\")"
   ]
  },
  {
   "cell_type": "code",
   "execution_count": null,
   "metadata": {
    "collapsed": false
   },
   "outputs": [],
   "source": [
    "clf.fit(tra_X, tra_y)\n",
    "pred = clf.predict(tst_X)\n",
    "\n",
    "tst_y_clf = np.zeros(pred.shape)\n",
    "tst_y_clf[tst_y >= BIND_THR] = 1\n",
    "\n",
    "pred_clf = np.zeros(pred.shape)\n",
    "pred_clf[pred >= BIND_THR] = 1\n",
    "\n",
    "print(\"F1:\", f1_score(tst_y_clf, pred_clf))\n",
    "print(\"AUC:\", roc_auc_score(tst_y_clf, pred_clf))"
   ]
  },
  {
   "cell_type": "code",
   "execution_count": null,
   "metadata": {
    "collapsed": false
   },
   "outputs": [],
   "source": [
    "np.concatenate([tst_y_clf, pred_clf])"
   ]
  },
  {
   "cell_type": "code",
   "execution_count": null,
   "metadata": {
    "collapsed": false
   },
   "outputs": [],
   "source": []
  },
  {
   "cell_type": "code",
   "execution_count": null,
   "metadata": {
    "collapsed": false
   },
   "outputs": [],
   "source": []
  }
 ],
 "metadata": {
  "anaconda-cloud": {},
  "kernelspec": {
   "display_name": "Python [conda root]",
   "language": "python",
   "name": "conda-root-py"
  },
  "language_info": {
   "codemirror_mode": {
    "name": "ipython",
    "version": 2
   },
   "file_extension": ".py",
   "mimetype": "text/x-python",
   "name": "python",
   "nbconvert_exporter": "python",
   "pygments_lexer": "ipython2",
   "version": "2.7.12"
  }
 },
 "nbformat": 4,
 "nbformat_minor": 1
}
