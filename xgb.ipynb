{
 "cells": [
  {
   "cell_type": "code",
   "execution_count": 1,
   "metadata": {
    "collapsed": false,
    "scrolled": true
   },
   "outputs": [],
   "source": [
    "import numpy as np\n",
    "import pandas as pd\n",
    "import xgboost as xgb\n",
    "import math\n",
    "import matplotlib.pyplot as plt\n",
    "\n",
    "from pandas import get_dummies\n",
    "from sklearn import preprocessing\n",
    "from sklearn import cross_validation, metrics \n",
    "from sklearn.grid_search import GridSearchCV\n",
    "from sklearn.metrics import roc_auc_score\n",
    "\n",
    "from sklearn.svm import SVR\n",
    "from sklearn import ensemble\n",
    "from sklearn.metrics import mean_squared_error\n",
    "\n",
    "\n",
    "%matplotlib inline\n",
    "plt.style.use('ggplot')"
   ]
  },
  {
   "cell_type": "code",
   "execution_count": 2,
   "metadata": {
    "collapsed": true
   },
   "outputs": [],
   "source": [
    "from Bio.SeqUtils import ProtParamData  \n",
    "from Bio.SeqUtils import IsoelectricPoint\n",
    "from Bio.Seq import Seq\n",
    "from Bio.Alphabet import IUPAC\n",
    "from Bio.Data import IUPACData\n",
    "from Bio.SeqUtils import molecular_weight\n",
    "from Bio import SeqIO\n",
    "from Bio.SeqUtils import ProtParam"
   ]
  },
  {
   "cell_type": "code",
   "execution_count": null,
   "metadata": {
    "collapsed": false
   },
   "outputs": [],
   "source": []
  },
  {
   "cell_type": "markdown",
   "metadata": {},
   "source": [
    "## Feature engineering \n",
    "* Log50000\n",
    "* chemical structure\n",
    "* kidera factors\n",
    "* Phylogenetic tree"
   ]
  },
  {
   "cell_type": "code",
   "execution_count": 3,
   "metadata": {
    "collapsed": false
   },
   "outputs": [],
   "source": [
    "\"\"\"\n",
    "logarithming according to articles\n",
    "\"\"\"\n",
    "def log_meas(current):\n",
    "    new_meas = 1 - math.log(current, 50000.0)\n",
    "    if new_meas > 1: new_meas = 1\n",
    "    if new_meas < 0: new_meas = 0\n",
    "    return new_meas"
   ]
  },
  {
   "cell_type": "code",
   "execution_count": 4,
   "metadata": {
    "collapsed": false
   },
   "outputs": [],
   "source": [
    "\"\"\"\n",
    "analyse_seq adds to DataFrame data with peptide sequences  columnns with chemical attributes of peptide\n",
    "\"\"\"\n",
    "\n",
    "def analyse_seq(sequences):\n",
    "    physochem = pd.DataFrame()\n",
    "    mol_weight = []\n",
    "    aromaticity = []\n",
    "    instability_index = []\n",
    "    isoelectric_point = []\n",
    "    for i in sequences:\n",
    "        X = ProtParam.ProteinAnalysis(i)\n",
    "        mol_weight.append(X.molecular_weight())\n",
    "        aromaticity.append(X.aromaticity())\n",
    "        instability_index.append(X.instability_index())\n",
    "        isoelectric_point.append(X.isoelectric_point())\n",
    "    physochem[\"molecular_weight\"] = mol_weight\n",
    "    physochem[\"aromaticity\"] = aromaticity\n",
    "    physochem[\"instability_index\"] = instability_index\n",
    "    physochem[\"isoelectric_point\"] = isoelectric_point\n",
    "    min_max_scaler = preprocessing.MinMaxScaler()\n",
    "    x_scaled = min_max_scaler.fit_transform(physochem[[\"molecular_weight\",\"instability_index\", \"isoelectric_point\"]])\n",
    "    x_scaled = pd.DataFrame(x_scaled, columns=[\"molecular_weight\",\"instability_index\", \"isoelectric_point\"])\n",
    "    physochem[\"molecular_weight\"] = pd.DataFrame(x_scaled[\"molecular_weight\"])\n",
    "    physochem[\"instability_index\"] = pd.DataFrame(x_scaled[\"instability_index\"])\n",
    "    physochem[\"isoelectric_point\"] = pd.DataFrame(x_scaled[\"isoelectric_point\"])\n",
    "    return physochem"
   ]
  },
  {
   "cell_type": "code",
   "execution_count": 5,
   "metadata": {
    "collapsed": false
   },
   "outputs": [],
   "source": [
    "\"\"\"\n",
    "to_one_hot function replaces \"sequence\" row in DataFrame data with OneHotEncoded sequences\n",
    "\"\"\"\n",
    "def to_one_hot(data, length):\n",
    "    NMers = data[data[\"peptide_length\"] == length].reset_index(drop=True)\n",
    "    letters = NMers.sequence.apply(list) \n",
    "    #data_1Hot = pd.get_dummies(pd.DataFrame(list(letters)))\n",
    "    #return pd.concat([NMers.drop([\"sequence\"], axis = 1), data_1Hot], axis = 1)\n",
    "    return pd.get_dummies(pd.DataFrame(list(letters)))\n",
    "    "
   ]
  },
  {
   "cell_type": "code",
   "execution_count": 6,
   "metadata": {
    "collapsed": false
   },
   "outputs": [],
   "source": [
    "\"\"\"\n",
    "select_by_allele function returns DataFrame, which consists from data for one mhc by its allele\n",
    "\"\"\"\n",
    "def select_by_allele(data, allele):\n",
    "    return data[data.mhc == allele].drop([\"mhc\"], axis = 1).reset_index(drop = True)"
   ]
  },
  {
   "cell_type": "code",
   "execution_count": 7,
   "metadata": {
    "collapsed": true
   },
   "outputs": [],
   "source": [
    "\"\"\"\n",
    "add_kidera_ftr function returns DataFrame with kidera factors on column for a given peptide\n",
    "\"\"\"\n",
    "def add_kidera_ftr(peptides):\n",
    "    kidera_peptides = pd.DataFrame()\n",
    "    for i,fact in enumerate(f): \n",
    "        kidera_peptides[fact]=[add_kidera(j)[i] for j in peptides]\n",
    "        #kidera_selected[fact] = pd.DataFrame(data[fact][indexes]).reset_index(drop=True)\n",
    "    return kidera_peptides\n",
    "\n",
    "amino=pd.read_csv(\"kidera_factors.csv\", sep=\" \", index_col=False)\n",
    "d = amino.to_dict(orient='list')\n",
    "f = ['f1','f2','f3','f4','f5','f6','f7','f8','f9','f10']\n",
    "\n",
    "def add_kidera(pept):\n",
    "    seq = list(pept)\n",
    "    dim = len(seq)\n",
    "    kidera = [0]*10\n",
    "    for i in range(10):\n",
    "        kidera[i] = [0]*dim\n",
    "       \n",
    "    for k in range(dim):\n",
    "        for i in range(20):\n",
    "            if seq[k] == d['amino'][i]:\n",
    "                for j in range(10):\n",
    "                    kidera[j][k] = d[f[j]][i]\n",
    "   \n",
    "    for i in range(10):\n",
    "        kidera[i] = sum(kidera[i])/len(kidera[i])\n",
    "   \n",
    "    return kidera"
   ]
  },
  {
   "cell_type": "code",
   "execution_count": null,
   "metadata": {
    "collapsed": false
   },
   "outputs": [],
   "source": []
  },
  {
   "cell_type": "markdown",
   "metadata": {},
   "source": [
    "## Dataset"
   ]
  },
  {
   "cell_type": "code",
   "execution_count": 8,
   "metadata": {
    "collapsed": false
   },
   "outputs": [],
   "source": [
    "Bdata = pd.read_csv(\"../mhc/bdata.csv\")\n",
    "Bdata.tail()\n",
    "Bdata.meas = [log_meas(i) for i in Bdata.meas]\n",
    "peptides9mers = Bdata[Bdata.peptide_length == 9].sequence\n",
    "sequences = Bdata.sequence"
   ]
  },
  {
   "cell_type": "code",
   "execution_count": 9,
   "metadata": {
    "collapsed": false
   },
   "outputs": [
    {
     "data": {
      "text/plain": [
       "count    179692.000000\n",
       "mean          0.271944\n",
       "std           0.282523\n",
       "min           0.000000\n",
       "25%           0.084687\n",
       "50%           0.112837\n",
       "75%           0.456245\n",
       "max           1.000000\n",
       "Name: meas, dtype: float64"
      ]
     },
     "execution_count": 9,
     "metadata": {},
     "output_type": "execute_result"
    }
   ],
   "source": [
    "Bdata.meas.describe()"
   ]
  },
  {
   "cell_type": "code",
   "execution_count": 10,
   "metadata": {
    "collapsed": false
   },
   "outputs": [
    {
     "data": {
      "image/png": "[encoded data removed]",
      "text/plain": [
       "<matplotlib.figure.Figure at 0x7fc40c17ae80>"
      ]
     },
     "metadata": {},
     "output_type": "display_data"
    }
   ],
   "source": [
    "plt.title(\"Scaled affinity distribution\")\n",
    "hh = plt.hist(Bdata.meas, 50, color = 'green', alpha = 0.6)"
   ]
  },
  {
   "cell_type": "code",
   "execution_count": null,
   "metadata": {
    "collapsed": false
   },
   "outputs": [],
   "source": []
  },
  {
   "cell_type": "markdown",
   "metadata": {},
   "source": [
    "## Sequence2Vector\n",
    "* Word2Vec\n",
    "* Doc2Vec\n",
    "* Database of human proteins from uniprot.org\n",
    "* Peptides from mhc binders"
   ]
  },
  {
   "cell_type": "code",
   "execution_count": 97,
   "metadata": {
    "collapsed": false
   },
   "outputs": [],
   "source": [
    "import logging\n",
    "import os\n",
    "import sys\n",
    "\n",
    "import gensim\n",
    "from gensim.models.doc2vec import TaggedDocument\n",
    "from gensim.models import word2vec, Doc2Vec\n",
    "from functools import partial\n",
    "\n",
    "logging.basicConfig(format='%(levelname)s : %(message)s', level=logging.INFO)\n",
    "logging.root.level = 20  # ipython messes up logging, restore root"
   ]
  },
  {
   "cell_type": "code",
   "execution_count": 12,
   "metadata": {
    "collapsed": false
   },
   "outputs": [],
   "source": [
    "def fill_spaces(seq):\n",
    "    new_seq = list(seq)\n",
    "    for i in range(1, len(seq)):\n",
    "        new_seq[i] = \" \"+ new_seq[i]\n",
    "    return ''.join(new_seq)\n",
    "\n",
    "def seq2vec(model, seq):\n",
    "    return model[list(seq)].flatten()\n",
    "\n",
    "def get_proteins_from_fasta(data_path):\n",
    "    list_of_sequences = []\n",
    "    for seq_record in SeqIO.parse(data_path, \"fasta\"):\n",
    "        list_of_sequences.append((str(seq_record.seq)))\n",
    "    return pd.Series(list_of_sequences).apply(fill_spaces)\n",
    "\n",
    "def get_peptides_from_Bdata(sequences):\n",
    "    return sequences.apply(fill_spaces)\n",
    "\n",
    "def iterate_uniprot_labeled_ngrams(input_data, n=3):\n",
    "    \"\"\"\n",
    "    Create n-gram sequence generator from the primary structure in\n",
    "    the FASTA format. \n",
    "    :param input_data: str path to the input data\n",
    "    :param n: int n-gram size\n",
    "    \"\"\"\n",
    "    for seq_record in SeqIO.parse(input_data, \"fasta\"):\n",
    "        ngrams = []\n",
    "        sequence = str(seq_record.seq)\n",
    "        for it in range(n):\n",
    "            ngrams.extend(\n",
    "                [sequence[i + it:i + n + it]\n",
    "                 for i in range(0, len(sequence) - 1, n)\n",
    "                 if len(sequence[i + it:i + n + it]) == n])\n",
    "        yield TaggedDocument(words=ngrams, tags=[seq_record.id])\n",
    "        \n"
   ]
  },
  {
   "cell_type": "code",
   "execution_count": null,
   "metadata": {
    "collapsed": false
   },
   "outputs": [],
   "source": []
  },
  {
   "cell_type": "code",
   "execution_count": 13,
   "metadata": {
    "collapsed": false
   },
   "outputs": [
    {
     "data": {
      "text/plain": [
       "'\\nif os.path.exists(\"protein_model.pkl\"):\\n    # If model was already trained then just load it.\\n    protein_doc2vec = gensim.models.Doc2Vec.load(\"protein_model.pkl\")\\nelse:\\n    # Else let\\'s train and save it for later reuse.\\n    protein_doc2vec = train_model(\"../mhc/uniprot-human.fasta\")\\n    protein_doc2vec.save(\"protein_model.pkl\")\\n    '"
      ]
     },
     "execution_count": 13,
     "metadata": {},
     "output_type": "execute_result"
    }
   ],
   "source": [
    "def train_seq2vec(data, epochs=5, min_word_count = 10, num_workers = 4,\n",
    "                  context = 4, downsampling = 1e-3, w2v_dim = 20):\n",
    "    \n",
    "    if(isinstance(data, str)):\n",
    "        sequences_for_w2v = get_proteins_from_fasta(data)\n",
    "    else:\n",
    "        sequences_for_w2v = get_peptides_from_Bdata(data)\n",
    "    \n",
    "    print(\"Training model...\")\n",
    "    w2v_model = word2vec.Word2Vec(sequences_for_w2v, workers=num_workers, size = w2v_dim,\n",
    "                              min_count = min_word_count, window = context, sample = downsampling)\n",
    "\n",
    "    print(\"Done.\")\n",
    "\n",
    "    return w2v_model   \n",
    "\n",
    "\n",
    "def train_doc2vec(data_path, epochs=15, size=100, window=4, min_count=5, workers=8, ngram_size=3):\n",
    "    \"\"\"\n",
    "    Train the Doc2Vec model on the protein primary structures data in the FASTA format.\n",
    "    :param data_path: str path to the data\n",
    "    :param epochs: int\n",
    "    :param size: int\n",
    "    :param window: int\n",
    "    :param min_count: int\n",
    "    :param workers: int\n",
    "    :param ngram_size: int\n",
    "    \"\"\"\n",
    "    it = lambda: iterate_uniprot_labeled_ngrams(data_path, n=3)\n",
    "    model = gensim.models.Doc2Vec(size=size, window=window, min_count=min_count, workers=workers)\n",
    "    model.build_vocab(it())\n",
    "    for i in range(epochs):\n",
    "        model.train(it())\n",
    "        logging.info(\"PROGRESS epoch %s from %s\", i + 1, epochs)\n",
    "    return model\n",
    "\n",
    "\"\"\"\n",
    "if os.path.exists(\"protein_model.pkl\"):\n",
    "    # If model was already trained then just load it.\n",
    "    protein_doc2vec = gensim.models.Doc2Vec.load(\"protein_model.pkl\")\n",
    "else:\n",
    "    # Else let's train and save it for later reuse.\n",
    "    protein_doc2vec = train_model(\"../mhc/uniprot-human.fasta\")\n",
    "    protein_doc2vec.save(\"protein_model.pkl\")\n",
    "    \"\"\"\n",
    "\n"
   ]
  },
  {
   "cell_type": "code",
   "execution_count": 14,
   "metadata": {
    "collapsed": true
   },
   "outputs": [],
   "source": [
    "if os.path.exists(\"protein_model.pkl\"):\n",
    "    # If model was already trained then just load it.\n",
    "    w2v_proteins = gensim.models.Doc2Vec.load(\"protein_model.pkl\")\n",
    "else:\n",
    "    # Else let's train and save it for later reuse\n",
    "    w2v_proteins = train_seq2vec(\"../mhc/uniprot-human.fasta\")\n",
    "    w2v_proteins.save(\"protein_model.pkl\")\n",
    "    \n",
    "if os.path.exists(\"peptides_model.pkl\"):\n",
    "    # If model was already trained then just load it.\n",
    "    w2v_peptides = gensim.models.Doc2Vec.load(\"peptides_model.pkl\")\n",
    "else:\n",
    "    # Else let's train and save it for later reuse\n",
    "    w2v_peptides = train_seq2vec(sequences)\n",
    "    w2v_peptides.save(\"peptides_model.pkl\")\n",
    "    \n"
   ]
  },
  {
   "cell_type": "markdown",
   "metadata": {},
   "source": [
    "## Dataframes with 9mers peptides"
   ]
  },
  {
   "cell_type": "markdown",
   "metadata": {},
   "source": [
    "#### 1. Sequence embedding\n",
    "##### 1.1 Proteins from UniProt"
   ]
  },
  {
   "cell_type": "code",
   "execution_count": 15,
   "metadata": {
    "collapsed": false
   },
   "outputs": [
    {
     "data": {
      "text/html": [
       "<div>\n",
       "<table border=\"1\" class=\"dataframe\">\n",
       "  <thead>\n",
       "    <tr style=\"text-align: right;\">\n",
       "      <th></th>\n",
       "      <th>0</th>\n",
       "      <th>1</th>\n",
       "      <th>2</th>\n",
       "      <th>3</th>\n",
       "      <th>4</th>\n",
       "      <th>5</th>\n",
       "      <th>6</th>\n",
       "      <th>7</th>\n",
       "      <th>8</th>\n",
       "      <th>9</th>\n",
       "      <th>...</th>\n",
       "      <th>170</th>\n",
       "      <th>171</th>\n",
       "      <th>172</th>\n",
       "      <th>173</th>\n",
       "      <th>174</th>\n",
       "      <th>175</th>\n",
       "      <th>176</th>\n",
       "      <th>177</th>\n",
       "      <th>178</th>\n",
       "      <th>179</th>\n",
       "    </tr>\n",
       "  </thead>\n",
       "  <tbody>\n",
       "    <tr>\n",
       "      <th>129808</th>\n",
       "      <td>-0.070466</td>\n",
       "      <td>-1.132948</td>\n",
       "      <td>-0.496687</td>\n",
       "      <td>0.235803</td>\n",
       "      <td>-0.910053</td>\n",
       "      <td>-0.877142</td>\n",
       "      <td>-0.696909</td>\n",
       "      <td>-0.258628</td>\n",
       "      <td>-0.852915</td>\n",
       "      <td>1.091042</td>\n",
       "      <td>...</td>\n",
       "      <td>0.827864</td>\n",
       "      <td>0.796960</td>\n",
       "      <td>-0.204607</td>\n",
       "      <td>-0.807937</td>\n",
       "      <td>-0.245499</td>\n",
       "      <td>1.427431</td>\n",
       "      <td>-0.394118</td>\n",
       "      <td>-0.642358</td>\n",
       "      <td>0.442655</td>\n",
       "      <td>-0.445520</td>\n",
       "    </tr>\n",
       "    <tr>\n",
       "      <th>129809</th>\n",
       "      <td>-0.735324</td>\n",
       "      <td>-0.406569</td>\n",
       "      <td>-0.520339</td>\n",
       "      <td>1.181557</td>\n",
       "      <td>-0.196739</td>\n",
       "      <td>-2.291299</td>\n",
       "      <td>0.563426</td>\n",
       "      <td>-0.266201</td>\n",
       "      <td>-0.018502</td>\n",
       "      <td>0.150823</td>\n",
       "      <td>...</td>\n",
       "      <td>1.017957</td>\n",
       "      <td>0.494816</td>\n",
       "      <td>1.114388</td>\n",
       "      <td>-0.740237</td>\n",
       "      <td>-0.997627</td>\n",
       "      <td>-0.390326</td>\n",
       "      <td>0.331035</td>\n",
       "      <td>-0.029821</td>\n",
       "      <td>1.254128</td>\n",
       "      <td>0.416820</td>\n",
       "    </tr>\n",
       "    <tr>\n",
       "      <th>129810</th>\n",
       "      <td>-1.162394</td>\n",
       "      <td>-0.790445</td>\n",
       "      <td>0.000995</td>\n",
       "      <td>0.473923</td>\n",
       "      <td>0.834163</td>\n",
       "      <td>-2.541387</td>\n",
       "      <td>1.149772</td>\n",
       "      <td>2.528838</td>\n",
       "      <td>-0.271030</td>\n",
       "      <td>2.552308</td>\n",
       "      <td>...</td>\n",
       "      <td>0.515076</td>\n",
       "      <td>0.488997</td>\n",
       "      <td>0.409078</td>\n",
       "      <td>-1.909338</td>\n",
       "      <td>-1.296944</td>\n",
       "      <td>0.901100</td>\n",
       "      <td>0.065749</td>\n",
       "      <td>-1.236402</td>\n",
       "      <td>-0.624258</td>\n",
       "      <td>0.489092</td>\n",
       "    </tr>\n",
       "    <tr>\n",
       "      <th>129811</th>\n",
       "      <td>0.331753</td>\n",
       "      <td>-1.250065</td>\n",
       "      <td>-0.097219</td>\n",
       "      <td>0.300101</td>\n",
       "      <td>-0.483161</td>\n",
       "      <td>0.953044</td>\n",
       "      <td>1.220211</td>\n",
       "      <td>0.358642</td>\n",
       "      <td>0.217377</td>\n",
       "      <td>-0.038371</td>\n",
       "      <td>...</td>\n",
       "      <td>1.378027</td>\n",
       "      <td>-0.421655</td>\n",
       "      <td>-1.407553</td>\n",
       "      <td>-1.144221</td>\n",
       "      <td>-1.934685</td>\n",
       "      <td>0.695509</td>\n",
       "      <td>0.253446</td>\n",
       "      <td>0.262271</td>\n",
       "      <td>0.211380</td>\n",
       "      <td>-0.235470</td>\n",
       "    </tr>\n",
       "    <tr>\n",
       "      <th>129812</th>\n",
       "      <td>-0.769455</td>\n",
       "      <td>-2.589313</td>\n",
       "      <td>0.133901</td>\n",
       "      <td>0.885098</td>\n",
       "      <td>-0.646268</td>\n",
       "      <td>-1.362573</td>\n",
       "      <td>1.128449</td>\n",
       "      <td>1.335465</td>\n",
       "      <td>-0.334080</td>\n",
       "      <td>1.075649</td>\n",
       "      <td>...</td>\n",
       "      <td>0.515076</td>\n",
       "      <td>0.488997</td>\n",
       "      <td>0.409078</td>\n",
       "      <td>-1.909338</td>\n",
       "      <td>-1.296944</td>\n",
       "      <td>0.901100</td>\n",
       "      <td>0.065749</td>\n",
       "      <td>-1.236402</td>\n",
       "      <td>-0.624258</td>\n",
       "      <td>0.489092</td>\n",
       "    </tr>\n",
       "  </tbody>\n",
       "</table>\n",
       "<p>5 rows × 180 columns</p>\n",
       "</div>"
      ],
      "text/plain": [
       "             0         1         2         3         4         5         6    \\\n",
       "129808 -0.070466 -1.132948 -0.496687  0.235803 -0.910053 -0.877142 -0.696909   \n",
       "129809 -0.735324 -0.406569 -0.520339  1.181557 -0.196739 -2.291299  0.563426   \n",
       "129810 -1.162394 -0.790445  0.000995  0.473923  0.834163 -2.541387  1.149772   \n",
       "129811  0.331753 -1.250065 -0.097219  0.300101 -0.483161  0.953044  1.220211   \n",
       "129812 -0.769455 -2.589313  0.133901  0.885098 -0.646268 -1.362573  1.128449   \n",
       "\n",
       "             7         8         9      ...          170       171       172  \\\n",
       "129808 -0.258628 -0.852915  1.091042    ...     0.827864  0.796960 -0.204607   \n",
       "129809 -0.266201 -0.018502  0.150823    ...     1.017957  0.494816  1.114388   \n",
       "129810  2.528838 -0.271030  2.552308    ...     0.515076  0.488997  0.409078   \n",
       "129811  0.358642  0.217377 -0.038371    ...     1.378027 -0.421655 -1.407553   \n",
       "129812  1.335465 -0.334080  1.075649    ...     0.515076  0.488997  0.409078   \n",
       "\n",
       "             173       174       175       176       177       178       179  \n",
       "129808 -0.807937 -0.245499  1.427431 -0.394118 -0.642358  0.442655 -0.445520  \n",
       "129809 -0.740237 -0.997627 -0.390326  0.331035 -0.029821  1.254128  0.416820  \n",
       "129810 -1.909338 -1.296944  0.901100  0.065749 -1.236402 -0.624258  0.489092  \n",
       "129811 -1.144221 -1.934685  0.695509  0.253446  0.262271  0.211380 -0.235470  \n",
       "129812 -1.909338 -1.296944  0.901100  0.065749 -1.236402 -0.624258  0.489092  \n",
       "\n",
       "[5 rows x 180 columns]"
      ]
     },
     "execution_count": 15,
     "metadata": {},
     "output_type": "execute_result"
    }
   ],
   "source": [
    "seq2vec9mers_proteins = pd.DataFrame(peptides9mers.apply(partial(seq2vec, w2v_proteins))).reset_index(drop=True)\n",
    "seq2vec9mers_proteins = pd.DataFrame(list(seq2vec9mers_proteins.sequence))\n",
    "seq2vec9mers_proteins.tail()"
   ]
  },
  {
   "cell_type": "markdown",
   "metadata": {},
   "source": [
    "##### 1.2 Peptides from mhc binders"
   ]
  },
  {
   "cell_type": "code",
   "execution_count": 16,
   "metadata": {
    "collapsed": false,
    "scrolled": true
   },
   "outputs": [
    {
     "data": {
      "text/html": [
       "<div>\n",
       "<table border=\"1\" class=\"dataframe\">\n",
       "  <thead>\n",
       "    <tr style=\"text-align: right;\">\n",
       "      <th></th>\n",
       "      <th>0</th>\n",
       "      <th>1</th>\n",
       "      <th>2</th>\n",
       "      <th>3</th>\n",
       "      <th>4</th>\n",
       "      <th>5</th>\n",
       "      <th>6</th>\n",
       "      <th>7</th>\n",
       "      <th>8</th>\n",
       "      <th>9</th>\n",
       "      <th>...</th>\n",
       "      <th>170</th>\n",
       "      <th>171</th>\n",
       "      <th>172</th>\n",
       "      <th>173</th>\n",
       "      <th>174</th>\n",
       "      <th>175</th>\n",
       "      <th>176</th>\n",
       "      <th>177</th>\n",
       "      <th>178</th>\n",
       "      <th>179</th>\n",
       "    </tr>\n",
       "  </thead>\n",
       "  <tbody>\n",
       "    <tr>\n",
       "      <th>129808</th>\n",
       "      <td>-0.147348</td>\n",
       "      <td>-0.447794</td>\n",
       "      <td>-0.182057</td>\n",
       "      <td>0.049279</td>\n",
       "      <td>0.160138</td>\n",
       "      <td>0.013314</td>\n",
       "      <td>-0.665189</td>\n",
       "      <td>-0.181651</td>\n",
       "      <td>-0.598852</td>\n",
       "      <td>0.315057</td>\n",
       "      <td>...</td>\n",
       "      <td>0.457616</td>\n",
       "      <td>0.179948</td>\n",
       "      <td>-0.166193</td>\n",
       "      <td>0.099045</td>\n",
       "      <td>0.121977</td>\n",
       "      <td>0.179392</td>\n",
       "      <td>-0.223191</td>\n",
       "      <td>-0.464856</td>\n",
       "      <td>-0.420709</td>\n",
       "      <td>-0.411114</td>\n",
       "    </tr>\n",
       "    <tr>\n",
       "      <th>129809</th>\n",
       "      <td>-0.267257</td>\n",
       "      <td>-0.400613</td>\n",
       "      <td>-0.443055</td>\n",
       "      <td>0.015390</td>\n",
       "      <td>-0.172523</td>\n",
       "      <td>0.058740</td>\n",
       "      <td>-0.616768</td>\n",
       "      <td>-0.387740</td>\n",
       "      <td>-0.237128</td>\n",
       "      <td>0.467072</td>\n",
       "      <td>...</td>\n",
       "      <td>0.937162</td>\n",
       "      <td>-0.063937</td>\n",
       "      <td>-0.355156</td>\n",
       "      <td>0.098337</td>\n",
       "      <td>0.212170</td>\n",
       "      <td>0.342942</td>\n",
       "      <td>-0.209382</td>\n",
       "      <td>-0.099737</td>\n",
       "      <td>-0.295770</td>\n",
       "      <td>-0.413778</td>\n",
       "    </tr>\n",
       "    <tr>\n",
       "      <th>129810</th>\n",
       "      <td>-0.002574</td>\n",
       "      <td>-0.131166</td>\n",
       "      <td>-0.524530</td>\n",
       "      <td>0.279908</td>\n",
       "      <td>-0.008974</td>\n",
       "      <td>-0.229033</td>\n",
       "      <td>-0.335929</td>\n",
       "      <td>-0.240438</td>\n",
       "      <td>-0.635068</td>\n",
       "      <td>0.155294</td>\n",
       "      <td>...</td>\n",
       "      <td>0.756489</td>\n",
       "      <td>0.257649</td>\n",
       "      <td>-0.005416</td>\n",
       "      <td>0.007550</td>\n",
       "      <td>0.550952</td>\n",
       "      <td>0.362033</td>\n",
       "      <td>-0.204242</td>\n",
       "      <td>-0.083444</td>\n",
       "      <td>-0.061360</td>\n",
       "      <td>-0.416948</td>\n",
       "    </tr>\n",
       "    <tr>\n",
       "      <th>129811</th>\n",
       "      <td>-0.107841</td>\n",
       "      <td>-0.146827</td>\n",
       "      <td>-0.162623</td>\n",
       "      <td>-0.047710</td>\n",
       "      <td>0.267500</td>\n",
       "      <td>0.206269</td>\n",
       "      <td>-0.322246</td>\n",
       "      <td>-0.068581</td>\n",
       "      <td>-0.895151</td>\n",
       "      <td>0.322828</td>\n",
       "      <td>...</td>\n",
       "      <td>0.582383</td>\n",
       "      <td>0.151213</td>\n",
       "      <td>-0.508543</td>\n",
       "      <td>0.553957</td>\n",
       "      <td>0.434713</td>\n",
       "      <td>-0.006307</td>\n",
       "      <td>0.238440</td>\n",
       "      <td>-0.408525</td>\n",
       "      <td>-0.308953</td>\n",
       "      <td>-0.188611</td>\n",
       "    </tr>\n",
       "    <tr>\n",
       "      <th>129812</th>\n",
       "      <td>0.137728</td>\n",
       "      <td>-0.532681</td>\n",
       "      <td>-0.132943</td>\n",
       "      <td>0.346430</td>\n",
       "      <td>0.178617</td>\n",
       "      <td>-0.205046</td>\n",
       "      <td>-0.694645</td>\n",
       "      <td>0.190223</td>\n",
       "      <td>-0.605324</td>\n",
       "      <td>0.558594</td>\n",
       "      <td>...</td>\n",
       "      <td>0.756489</td>\n",
       "      <td>0.257649</td>\n",
       "      <td>-0.005416</td>\n",
       "      <td>0.007550</td>\n",
       "      <td>0.550952</td>\n",
       "      <td>0.362033</td>\n",
       "      <td>-0.204242</td>\n",
       "      <td>-0.083444</td>\n",
       "      <td>-0.061360</td>\n",
       "      <td>-0.416948</td>\n",
       "    </tr>\n",
       "  </tbody>\n",
       "</table>\n",
       "<p>5 rows × 180 columns</p>\n",
       "</div>"
      ],
      "text/plain": [
       "             0         1         2         3         4         5         6    \\\n",
       "129808 -0.147348 -0.447794 -0.182057  0.049279  0.160138  0.013314 -0.665189   \n",
       "129809 -0.267257 -0.400613 -0.443055  0.015390 -0.172523  0.058740 -0.616768   \n",
       "129810 -0.002574 -0.131166 -0.524530  0.279908 -0.008974 -0.229033 -0.335929   \n",
       "129811 -0.107841 -0.146827 -0.162623 -0.047710  0.267500  0.206269 -0.322246   \n",
       "129812  0.137728 -0.532681 -0.132943  0.346430  0.178617 -0.205046 -0.694645   \n",
       "\n",
       "             7         8         9      ...          170       171       172  \\\n",
       "129808 -0.181651 -0.598852  0.315057    ...     0.457616  0.179948 -0.166193   \n",
       "129809 -0.387740 -0.237128  0.467072    ...     0.937162 -0.063937 -0.355156   \n",
       "129810 -0.240438 -0.635068  0.155294    ...     0.756489  0.257649 -0.005416   \n",
       "129811 -0.068581 -0.895151  0.322828    ...     0.582383  0.151213 -0.508543   \n",
       "129812  0.190223 -0.605324  0.558594    ...     0.756489  0.257649 -0.005416   \n",
       "\n",
       "             173       174       175       176       177       178       179  \n",
       "129808  0.099045  0.121977  0.179392 -0.223191 -0.464856 -0.420709 -0.411114  \n",
       "129809  0.098337  0.212170  0.342942 -0.209382 -0.099737 -0.295770 -0.413778  \n",
       "129810  0.007550  0.550952  0.362033 -0.204242 -0.083444 -0.061360 -0.416948  \n",
       "129811  0.553957  0.434713 -0.006307  0.238440 -0.408525 -0.308953 -0.188611  \n",
       "129812  0.007550  0.550952  0.362033 -0.204242 -0.083444 -0.061360 -0.416948  \n",
       "\n",
       "[5 rows x 180 columns]"
      ]
     },
     "execution_count": 16,
     "metadata": {},
     "output_type": "execute_result"
    }
   ],
   "source": [
    "seq2vec9mers_peptides = pd.DataFrame(peptides9mers.apply(partial(seq2vec, w2v_peptides))).reset_index(drop=True)\n",
    "seq2vec9mers_peptides = pd.DataFrame(list(seq2vec9mers_peptides.sequence))\n",
    "seq2vec9mers_peptides.tail()"
   ]
  },
  {
   "cell_type": "markdown",
   "metadata": {},
   "source": [
    "##### 1.3 Correlation matrix \"between\" embedding models"
   ]
  },
  {
   "cell_type": "code",
   "execution_count": 17,
   "metadata": {
    "collapsed": true
   },
   "outputs": [],
   "source": [
    "embedding_columns = seq2vec9mers_peptides.columns\n",
    "correlation_matrix = seq2vec9mers_peptides.apply(lambda embedding_columns: seq2vec9mers_proteins.corrwith(embedding_columns))"
   ]
  },
  {
   "cell_type": "code",
   "execution_count": 18,
   "metadata": {
    "collapsed": false
   },
   "outputs": [
    {
     "data": {
      "image/png": "[encoded data removed]",
      "text/plain": [
       "<matplotlib.figure.Figure at 0x7fc3e5ecc828>"
      ]
     },
     "metadata": {},
     "output_type": "display_data"
    }
   ],
   "source": [
    "plt.figure(figsize = (16, 16))\n",
    "plt.imshow(correlation_matrix, cmap='PiYG', interpolation='nearest', vmin=-1, vmax=1, )\n",
    "plt.colorbar()\n",
    "x_ = plt.xticks(np.arange(0, 180, 5), correlation_matrix.columns[::5])\n",
    "y_ = plt.yticks(np.arange(0, 180, 5), correlation_matrix.columns[::5])"
   ]
  },
  {
   "cell_type": "markdown",
   "metadata": {},
   "source": [
    "#### 2. OneHotEncoded"
   ]
  },
  {
   "cell_type": "code",
   "execution_count": 19,
   "metadata": {
    "collapsed": false
   },
   "outputs": [
    {
     "data": {
      "text/html": [
       "<div>\n",
       "<table border=\"1\" class=\"dataframe\">\n",
       "  <thead>\n",
       "    <tr style=\"text-align: right;\">\n",
       "      <th></th>\n",
       "      <th>0_A</th>\n",
       "      <th>0_C</th>\n",
       "      <th>0_D</th>\n",
       "      <th>0_E</th>\n",
       "      <th>0_F</th>\n",
       "      <th>0_G</th>\n",
       "      <th>0_H</th>\n",
       "      <th>0_I</th>\n",
       "      <th>0_K</th>\n",
       "      <th>0_L</th>\n",
       "      <th>...</th>\n",
       "      <th>8_M</th>\n",
       "      <th>8_N</th>\n",
       "      <th>8_P</th>\n",
       "      <th>8_Q</th>\n",
       "      <th>8_R</th>\n",
       "      <th>8_S</th>\n",
       "      <th>8_T</th>\n",
       "      <th>8_V</th>\n",
       "      <th>8_W</th>\n",
       "      <th>8_Y</th>\n",
       "    </tr>\n",
       "  </thead>\n",
       "  <tbody>\n",
       "    <tr>\n",
       "      <th>129808</th>\n",
       "      <td>0.0</td>\n",
       "      <td>0.0</td>\n",
       "      <td>0.0</td>\n",
       "      <td>0.0</td>\n",
       "      <td>0.0</td>\n",
       "      <td>0.0</td>\n",
       "      <td>0.0</td>\n",
       "      <td>1.0</td>\n",
       "      <td>0.0</td>\n",
       "      <td>0.0</td>\n",
       "      <td>...</td>\n",
       "      <td>0.0</td>\n",
       "      <td>0.0</td>\n",
       "      <td>0.0</td>\n",
       "      <td>0.0</td>\n",
       "      <td>0.0</td>\n",
       "      <td>0.0</td>\n",
       "      <td>0.0</td>\n",
       "      <td>0.0</td>\n",
       "      <td>0.0</td>\n",
       "      <td>0.0</td>\n",
       "    </tr>\n",
       "    <tr>\n",
       "      <th>129809</th>\n",
       "      <td>0.0</td>\n",
       "      <td>0.0</td>\n",
       "      <td>1.0</td>\n",
       "      <td>0.0</td>\n",
       "      <td>0.0</td>\n",
       "      <td>0.0</td>\n",
       "      <td>0.0</td>\n",
       "      <td>0.0</td>\n",
       "      <td>0.0</td>\n",
       "      <td>0.0</td>\n",
       "      <td>...</td>\n",
       "      <td>0.0</td>\n",
       "      <td>0.0</td>\n",
       "      <td>0.0</td>\n",
       "      <td>0.0</td>\n",
       "      <td>0.0</td>\n",
       "      <td>0.0</td>\n",
       "      <td>0.0</td>\n",
       "      <td>0.0</td>\n",
       "      <td>0.0</td>\n",
       "      <td>1.0</td>\n",
       "    </tr>\n",
       "    <tr>\n",
       "      <th>129810</th>\n",
       "      <td>0.0</td>\n",
       "      <td>0.0</td>\n",
       "      <td>0.0</td>\n",
       "      <td>0.0</td>\n",
       "      <td>0.0</td>\n",
       "      <td>0.0</td>\n",
       "      <td>0.0</td>\n",
       "      <td>0.0</td>\n",
       "      <td>0.0</td>\n",
       "      <td>0.0</td>\n",
       "      <td>...</td>\n",
       "      <td>0.0</td>\n",
       "      <td>0.0</td>\n",
       "      <td>0.0</td>\n",
       "      <td>0.0</td>\n",
       "      <td>0.0</td>\n",
       "      <td>0.0</td>\n",
       "      <td>0.0</td>\n",
       "      <td>0.0</td>\n",
       "      <td>0.0</td>\n",
       "      <td>0.0</td>\n",
       "    </tr>\n",
       "    <tr>\n",
       "      <th>129811</th>\n",
       "      <td>0.0</td>\n",
       "      <td>0.0</td>\n",
       "      <td>0.0</td>\n",
       "      <td>0.0</td>\n",
       "      <td>0.0</td>\n",
       "      <td>0.0</td>\n",
       "      <td>0.0</td>\n",
       "      <td>0.0</td>\n",
       "      <td>0.0</td>\n",
       "      <td>1.0</td>\n",
       "      <td>...</td>\n",
       "      <td>1.0</td>\n",
       "      <td>0.0</td>\n",
       "      <td>0.0</td>\n",
       "      <td>0.0</td>\n",
       "      <td>0.0</td>\n",
       "      <td>0.0</td>\n",
       "      <td>0.0</td>\n",
       "      <td>0.0</td>\n",
       "      <td>0.0</td>\n",
       "      <td>0.0</td>\n",
       "    </tr>\n",
       "    <tr>\n",
       "      <th>129812</th>\n",
       "      <td>0.0</td>\n",
       "      <td>0.0</td>\n",
       "      <td>0.0</td>\n",
       "      <td>0.0</td>\n",
       "      <td>1.0</td>\n",
       "      <td>0.0</td>\n",
       "      <td>0.0</td>\n",
       "      <td>0.0</td>\n",
       "      <td>0.0</td>\n",
       "      <td>0.0</td>\n",
       "      <td>...</td>\n",
       "      <td>0.0</td>\n",
       "      <td>0.0</td>\n",
       "      <td>0.0</td>\n",
       "      <td>0.0</td>\n",
       "      <td>0.0</td>\n",
       "      <td>0.0</td>\n",
       "      <td>0.0</td>\n",
       "      <td>0.0</td>\n",
       "      <td>0.0</td>\n",
       "      <td>0.0</td>\n",
       "    </tr>\n",
       "  </tbody>\n",
       "</table>\n",
       "<p>5 rows × 180 columns</p>\n",
       "</div>"
      ],
      "text/plain": [
       "        0_A  0_C  0_D  0_E  0_F  0_G  0_H  0_I  0_K  0_L ...   8_M  8_N  8_P  \\\n",
       "129808  0.0  0.0  0.0  0.0  0.0  0.0  0.0  1.0  0.0  0.0 ...   0.0  0.0  0.0   \n",
       "129809  0.0  0.0  1.0  0.0  0.0  0.0  0.0  0.0  0.0  0.0 ...   0.0  0.0  0.0   \n",
       "129810  0.0  0.0  0.0  0.0  0.0  0.0  0.0  0.0  0.0  0.0 ...   0.0  0.0  0.0   \n",
       "129811  0.0  0.0  0.0  0.0  0.0  0.0  0.0  0.0  0.0  1.0 ...   1.0  0.0  0.0   \n",
       "129812  0.0  0.0  0.0  0.0  1.0  0.0  0.0  0.0  0.0  0.0 ...   0.0  0.0  0.0   \n",
       "\n",
       "        8_Q  8_R  8_S  8_T  8_V  8_W  8_Y  \n",
       "129808  0.0  0.0  0.0  0.0  0.0  0.0  0.0  \n",
       "129809  0.0  0.0  0.0  0.0  0.0  0.0  1.0  \n",
       "129810  0.0  0.0  0.0  0.0  0.0  0.0  0.0  \n",
       "129811  0.0  0.0  0.0  0.0  0.0  0.0  0.0  \n",
       "129812  0.0  0.0  0.0  0.0  0.0  0.0  0.0  \n",
       "\n",
       "[5 rows x 180 columns]"
      ]
     },
     "execution_count": 19,
     "metadata": {},
     "output_type": "execute_result"
    }
   ],
   "source": [
    "OneHot9mers = to_one_hot(Bdata, 9)\n",
    "OneHot9mers.tail()"
   ]
  },
  {
   "cell_type": "markdown",
   "metadata": {},
   "source": [
    "#### 3. Physochemical properties"
   ]
  },
  {
   "cell_type": "code",
   "execution_count": 20,
   "metadata": {
    "collapsed": false
   },
   "outputs": [
    {
     "data": {
      "text/html": [
       "<div>\n",
       "<table border=\"1\" class=\"dataframe\">\n",
       "  <thead>\n",
       "    <tr style=\"text-align: right;\">\n",
       "      <th></th>\n",
       "      <th>molecular_weight</th>\n",
       "      <th>aromaticity</th>\n",
       "      <th>instability_index</th>\n",
       "      <th>isoelectric_point</th>\n",
       "    </tr>\n",
       "  </thead>\n",
       "  <tbody>\n",
       "    <tr>\n",
       "      <th>129808</th>\n",
       "      <td>0.372089</td>\n",
       "      <td>0.000000</td>\n",
       "      <td>0.280008</td>\n",
       "      <td>0.050803</td>\n",
       "    </tr>\n",
       "    <tr>\n",
       "      <th>129809</th>\n",
       "      <td>0.323164</td>\n",
       "      <td>0.111111</td>\n",
       "      <td>0.293921</td>\n",
       "      <td>0.064873</td>\n",
       "    </tr>\n",
       "    <tr>\n",
       "      <th>129810</th>\n",
       "      <td>0.528654</td>\n",
       "      <td>0.333333</td>\n",
       "      <td>0.353245</td>\n",
       "      <td>0.085869</td>\n",
       "    </tr>\n",
       "    <tr>\n",
       "      <th>129811</th>\n",
       "      <td>0.488379</td>\n",
       "      <td>0.111111</td>\n",
       "      <td>0.220120</td>\n",
       "      <td>0.050803</td>\n",
       "    </tr>\n",
       "    <tr>\n",
       "      <th>129812</th>\n",
       "      <td>0.533740</td>\n",
       "      <td>0.555556</td>\n",
       "      <td>0.264814</td>\n",
       "      <td>0.246062</td>\n",
       "    </tr>\n",
       "  </tbody>\n",
       "</table>\n",
       "</div>"
      ],
      "text/plain": [
       "        molecular_weight  aromaticity  instability_index  isoelectric_point\n",
       "129808          0.372089     0.000000           0.280008           0.050803\n",
       "129809          0.323164     0.111111           0.293921           0.064873\n",
       "129810          0.528654     0.333333           0.353245           0.085869\n",
       "129811          0.488379     0.111111           0.220120           0.050803\n",
       "129812          0.533740     0.555556           0.264814           0.246062"
      ]
     },
     "execution_count": 20,
     "metadata": {},
     "output_type": "execute_result"
    }
   ],
   "source": [
    "PhChemicalData = analyse_seq(peptides9mers)\n",
    "PhChemicalData.tail()"
   ]
  },
  {
   "cell_type": "markdown",
   "metadata": {},
   "source": [
    "#### 4.Kidera factors"
   ]
  },
  {
   "cell_type": "code",
   "execution_count": 21,
   "metadata": {
    "collapsed": false
   },
   "outputs": [
    {
     "data": {
      "text/html": [
       "<div>\n",
       "<table border=\"1\" class=\"dataframe\">\n",
       "  <thead>\n",
       "    <tr style=\"text-align: right;\">\n",
       "      <th></th>\n",
       "      <th>f1</th>\n",
       "      <th>f2</th>\n",
       "      <th>f3</th>\n",
       "      <th>f4</th>\n",
       "      <th>f5</th>\n",
       "      <th>f6</th>\n",
       "      <th>f7</th>\n",
       "      <th>f8</th>\n",
       "      <th>f9</th>\n",
       "      <th>f10</th>\n",
       "    </tr>\n",
       "  </thead>\n",
       "  <tbody>\n",
       "    <tr>\n",
       "      <th>129808</th>\n",
       "      <td>-0.011111</td>\n",
       "      <td>-0.355556</td>\n",
       "      <td>-0.186667</td>\n",
       "      <td>0.011111</td>\n",
       "      <td>-0.106667</td>\n",
       "      <td>-0.116667</td>\n",
       "      <td>-0.481111</td>\n",
       "      <td>-0.560000</td>\n",
       "      <td>-0.167778</td>\n",
       "      <td>-0.061111</td>\n",
       "    </tr>\n",
       "    <tr>\n",
       "      <th>129809</th>\n",
       "      <td>0.172222</td>\n",
       "      <td>-0.478889</td>\n",
       "      <td>-0.176667</td>\n",
       "      <td>-0.304444</td>\n",
       "      <td>0.096667</td>\n",
       "      <td>-0.404444</td>\n",
       "      <td>-0.238889</td>\n",
       "      <td>-0.028889</td>\n",
       "      <td>-0.250000</td>\n",
       "      <td>0.283333</td>\n",
       "    </tr>\n",
       "    <tr>\n",
       "      <th>129810</th>\n",
       "      <td>0.367778</td>\n",
       "      <td>0.122222</td>\n",
       "      <td>0.144444</td>\n",
       "      <td>0.002222</td>\n",
       "      <td>-0.051111</td>\n",
       "      <td>-0.146667</td>\n",
       "      <td>-0.062222</td>\n",
       "      <td>0.642222</td>\n",
       "      <td>0.040000</td>\n",
       "      <td>-0.567778</td>\n",
       "    </tr>\n",
       "    <tr>\n",
       "      <th>129811</th>\n",
       "      <td>-0.387778</td>\n",
       "      <td>-0.070000</td>\n",
       "      <td>-0.372222</td>\n",
       "      <td>0.003333</td>\n",
       "      <td>0.041111</td>\n",
       "      <td>0.073333</td>\n",
       "      <td>-0.040000</td>\n",
       "      <td>0.148889</td>\n",
       "      <td>-0.108889</td>\n",
       "      <td>0.062222</td>\n",
       "    </tr>\n",
       "    <tr>\n",
       "      <th>129812</th>\n",
       "      <td>-0.450000</td>\n",
       "      <td>0.132222</td>\n",
       "      <td>0.138889</td>\n",
       "      <td>-0.887778</td>\n",
       "      <td>-0.113333</td>\n",
       "      <td>-0.695556</td>\n",
       "      <td>0.007778</td>\n",
       "      <td>0.648889</td>\n",
       "      <td>0.823333</td>\n",
       "      <td>-0.368889</td>\n",
       "    </tr>\n",
       "  </tbody>\n",
       "</table>\n",
       "</div>"
      ],
      "text/plain": [
       "              f1        f2        f3        f4        f5        f6        f7  \\\n",
       "129808 -0.011111 -0.355556 -0.186667  0.011111 -0.106667 -0.116667 -0.481111   \n",
       "129809  0.172222 -0.478889 -0.176667 -0.304444  0.096667 -0.404444 -0.238889   \n",
       "129810  0.367778  0.122222  0.144444  0.002222 -0.051111 -0.146667 -0.062222   \n",
       "129811 -0.387778 -0.070000 -0.372222  0.003333  0.041111  0.073333 -0.040000   \n",
       "129812 -0.450000  0.132222  0.138889 -0.887778 -0.113333 -0.695556  0.007778   \n",
       "\n",
       "              f8        f9       f10  \n",
       "129808 -0.560000 -0.167778 -0.061111  \n",
       "129809 -0.028889 -0.250000  0.283333  \n",
       "129810  0.642222  0.040000 -0.567778  \n",
       "129811  0.148889 -0.108889  0.062222  \n",
       "129812  0.648889  0.823333 -0.368889  "
      ]
     },
     "execution_count": 21,
     "metadata": {},
     "output_type": "execute_result"
    }
   ],
   "source": [
    "KideraData = pd.read_csv(\"../mhc/Kidera9mers.csv\").drop([\"Unnamed: 0\"], axis=1) #add_kidera_ftr(peptides9mers)\n",
    "KideraData.tail()\n"
   ]
  },
  {
   "cell_type": "markdown",
   "metadata": {},
   "source": [
    "#### 5.BLOSUM scoring matrix"
   ]
  },
  {
   "cell_type": "code",
   "execution_count": 85,
   "metadata": {
    "collapsed": false
   },
   "outputs": [],
   "source": [
    "blosum_matrix = pd.read_csv(\"../mhc/blosum62.csv\").drop([\"x\"], axis = 1)\n",
    "\n",
    "def make_blosum(sequences):\n",
    "    \n",
    "    blosum_encoded = pd.DataFrame(np.zeros((len(sequences), 180)))\n",
    "    for index, cur_seq in enumerate(sequences):\n",
    "        amino_acids = list(cur_seq)\n",
    "        cur_encoded_seq = np.array(blosum_matrix[amino_acids]).ravel()\n",
    "        blosum_encoded.iloc[index] = np.array(blosum_matrix[amino_acids]).ravel()\n",
    "        \n",
    "    return blosum_encoded"
   ]
  },
  {
   "cell_type": "markdown",
   "metadata": {
    "collapsed": false
   },
   "source": []
  },
  {
   "cell_type": "code",
   "execution_count": 92,
   "metadata": {
    "collapsed": false
   },
   "outputs": [],
   "source": [
    "blosum9mers = make_blosum(peptides9mers)"
   ]
  },
  {
   "cell_type": "code",
   "execution_count": null,
   "metadata": {
    "collapsed": false
   },
   "outputs": [],
   "source": []
  },
  {
   "cell_type": "code",
   "execution_count": null,
   "metadata": {
    "collapsed": false
   },
   "outputs": [],
   "source": []
  },
  {
   "cell_type": "markdown",
   "metadata": {},
   "source": [
    "#### 6. kNN meta-features"
   ]
  },
  {
   "cell_type": "code",
   "execution_count": 94,
   "metadata": {
    "collapsed": true
   },
   "outputs": [],
   "source": [
    "from pandas import get_dummies\n",
    "from sklearn.cluster import KMeans"
   ]
  },
  {
   "cell_type": "code",
   "execution_count": 111,
   "metadata": {
    "collapsed": false,
    "scrolled": true
   },
   "outputs": [],
   "source": [
    "def get_kMeans_features(data, k_range):\n",
    "    kMeans_meta_features = pd.DataFrame()\n",
    "\n",
    "    for i in k_range:\n",
    "        clr = KMeans(n_clusters=i, verbose=100, n_jobs=3)\n",
    "        clr.fit(data)\n",
    "        kMeans_meta_features[str(i)+\"Means\"] = clr.labels_\n",
    "    \n",
    "    return pd.get_dummies(kMeans_meta_features)"
   ]
  },
  {
   "cell_type": "code",
   "execution_count": 115,
   "metadata": {
    "collapsed": false
   },
   "outputs": [],
   "source": [
    "if os.path.exists(\"kMeans_meta_features_pept.csv\"):\n",
    "    kMeans_meta_features_pept = pd.get_dummies(pd.read_csv(\"kMeans_meta_features_pept.csv\").drop([\"Unnamed: 0\"], axis=1))\n",
    "else:\n",
    "    get_kMeans_features(seq2vec9mers_peptides, [2, 3, 100, 1000, 500])\n",
    "    \n",
    "if os.path.exists(\"kMeans_meta_features_prot.csv\"):\n",
    "    kMeans_meta_features_prot = pd.get_dummies(pd.read_csv(\"kMeans_meta_features_prot.csv\").drop([\"Unnamed: 0\"], axis=1))\n",
    "else:\n",
    "    get_kMeans_features(seq2vec9mers_proteins, [2, 3, 100, 1000, 500])\n"
   ]
  },
  {
   "cell_type": "code",
   "execution_count": null,
   "metadata": {
    "collapsed": false
   },
   "outputs": [],
   "source": []
  },
  {
   "cell_type": "markdown",
   "metadata": {},
   "source": [
    "### 6.1. Correlation between kMeans on peptides and proteins"
   ]
  },
  {
   "cell_type": "code",
   "execution_count": 126,
   "metadata": {
    "collapsed": false
   },
   "outputs": [
    {
     "data": {
      "image/png": "[encoded data removed]",
      "text/plain": [
       "<matplotlib.figure.Figure at 0x7f91eb2a0e10>"
      ]
     },
     "metadata": {},
     "output_type": "display_data"
    }
   ],
   "source": [
    "#clustering_columns = kMeans_meta_features_pept.columns\n",
    "\n",
    "KMeans_correlation_matrix = kMeans_meta_features_pept.apply(lambda clustering_columns: kMeans_meta_features_prot.corrwith(clustering_columns))\n",
    "plt.figure(figsize = (6, 6))\n",
    "plt.imshow(KMeans_correlation_matrix, cmap='PiYG', interpolation='nearest', vmin=-1, vmax=1, )\n",
    "plt.colorbar()\n",
    "x_ = plt.xticks(range(len(KMeans_correlation_matrix)), KMeans_correlation_matrix.columns, rotation=15)\n",
    "y_ = plt.yticks(range(len(KMeans_correlation_matrix)), KMeans_correlation_matrix.columns)"
   ]
  },
  {
   "cell_type": "markdown",
   "metadata": {},
   "source": [
    "## Training XGboost"
   ]
  },
  {
   "cell_type": "code",
   "execution_count": 87,
   "metadata": {
    "collapsed": true
   },
   "outputs": [],
   "source": [
    "def affinity_to_classes(affinity):\n",
    "    return pd.Series([round(10*i, 0) for i in affinity])\n",
    "\n",
    "def affinity_to_binary(affinity):\n",
    "    return pd.Series(map(lambda x: 1 if x >= 0.5 else 0, affinity))"
   ]
  },
  {
   "cell_type": "code",
   "execution_count": 88,
   "metadata": {
    "collapsed": false
   },
   "outputs": [],
   "source": [
    "def xgb_grid_search(data, target):\n",
    "    \n",
    "    # split\n",
    "    X_train, X_test, y_train, y_test = cross_validation.train_test_split(data, target, test_size=0.25, random_state=442)\n",
    "    \n",
    "    # train\n",
    "    \n",
    "    gbm_params = {\n",
    "        'min_child_weight': [4, 7], \n",
    "        'gamma':[i/10.0 for i in range(0,5)]\n",
    "    }\n",
    "    \n",
    "    print(\"GridSeachCV proceeding...\")\n",
    "    gbm = GridSearchCV(xgb.XGBClassifier(objective='binary:logistic', max_depth = 7, max_delta_step = 5, learning_rate = 0.15, scale_pos_weight = 2), gbm_params, n_jobs=2, cv=5, verbose=10)\n",
    "    gbm.fit(X_train, y_train)\n",
    "    print(\"Done.\")\n",
    "    \n",
    "    print(101*\"=\"+ \"\\nBEST PARAMETERS: \", gbm.best_params_, \"\\n\"+101*\"=\"+\"\\n\")\n",
    "    predictions = gbm.predict(X_test)\n",
    "    \n",
    "    print(\"==================\\nACCURACY : %.4g\\n==================\" % metrics.roc_auc_score(y_test, predictions))\n",
    "    "
   ]
  },
  {
   "cell_type": "code",
   "execution_count": 89,
   "metadata": {
    "collapsed": false,
    "scrolled": true
   },
   "outputs": [],
   "source": [
    "affinity = Bdata[Bdata.peptide_length == 9].meas.reset_index(drop=True)\n",
    "affinity_classes = affinity_to_classes(affinity)\n",
    "affinity_binary = affinity_to_binary(affinity)"
   ]
  },
  {
   "cell_type": "code",
   "execution_count": 90,
   "metadata": {
    "collapsed": true
   },
   "outputs": [],
   "source": [
    "def xgb_regression(data, target):\n",
    "    X_train, X_test, y_train, y_test = cross_validation.train_test_split(data, target, test_size=0.25, random_state=442)\n",
    "    \n",
    "    \n",
    "    \"\"\"dtrain = xgb.DMatrix(X_train, y_train)\n",
    "    dtest = xgb.DMatrix(X_test, y_test)\n",
    "    bst = xgb.train(param, dtrain, num_round)\n",
    "    preds = bst.predict(dtest)\"\"\"\n",
    "    \n",
    "    gbm_params = {\n",
    "        'learning_rate':[0.03, 0.1, 0.2],\n",
    "        'n_estimators':[150, 250, 350],\n",
    "        'max_depth':[3, 5, 7],\n",
    "        'min_child_weight': [2, 4, 6]        \n",
    "    }\n",
    "    \n",
    "    \n",
    "    print(\"GridSeachCV proceeding...\")\n",
    "    gbm = GridSearchCV(xgb.XGBRegressor(objective='reg:linear', scale_pos_weight = 3), gbm_params, n_jobs=2, cv=5, verbose=10)\n",
    "    gbm.fit(X_train, y_train)\n",
    "    print(\"Done.\")\n",
    "    \n",
    "    print(101*\"=\"+ \"\\nBEST PARAMETERS: \", gbm.best_params_, \"\\n\"+101*\"=\"+\"\\n\")\n",
    "    predictions = gbm.predict(X_test)\n",
    "    \n",
    "    print(\"==================\\nMSE : %.4g\\n==================\" % metrics.mean_squared_error(y_test, predictions))\n",
    "    \n",
    "    "
   ]
  },
  {
   "cell_type": "code",
   "execution_count": 31,
   "metadata": {
    "collapsed": true
   },
   "outputs": [],
   "source": [
    "#xgb_grid_search(OneHot9mers, affinity_binary)"
   ]
  },
  {
   "cell_type": "markdown",
   "metadata": {},
   "source": [
    "Best parameters:  {'learning_rate': 0.2, 'max_delta_step': 5, 'n_estimators': 250, 'max_depth': 7} \n",
    "Accuracy: 0.817"
   ]
  },
  {
   "cell_type": "code",
   "execution_count": 32,
   "metadata": {
    "collapsed": false
   },
   "outputs": [
    {
     "data": {
      "text/plain": [
       "'\\ndata_many_features = pd.concat([PhChemicalData, OneHot9mers, seq2vec9mers], axis=1)\\ndataframes = [PhChemicalData, OneHot9mers, seq2vec9mers, data_many_features]\\n'"
      ]
     },
     "execution_count": 32,
     "metadata": {},
     "output_type": "execute_result"
    }
   ],
   "source": [
    "\"\"\"\n",
    "data_many_features = pd.concat([PhChemicalData, OneHot9mers, seq2vec9mers], axis=1)\n",
    "dataframes = [PhChemicalData, OneHot9mers, seq2vec9mers, data_many_features]\n",
    "\"\"\""
   ]
  },
  {
   "cell_type": "code",
   "execution_count": 33,
   "metadata": {
    "collapsed": false
   },
   "outputs": [
    {
     "data": {
      "image/png": "[encoded data removed]",
      "text/plain": [
       "<matplotlib.figure.Figure at 0x7fc3ea5fc6a0>"
      ]
     },
     "metadata": {},
     "output_type": "display_data"
    }
   ],
   "source": [
    "plt.title(\"Affinity distribution(threshold = 500nM)\")\n",
    "afd = affinity_binary.hist(bins=2)"
   ]
  },
  {
   "cell_type": "code",
   "execution_count": 34,
   "metadata": {
    "collapsed": true
   },
   "outputs": [],
   "source": [
    "def SVR_res(data, target):\n",
    "    \n",
    "    X_train, X_test, y_train, y_test = cross_validation.train_test_split(data, target, test_size=0.25, random_state=442)\n",
    "    \"\"\"k=['rbf', 'linear','poly','sigmoid','precomputed']\n",
    "    c= [1e-3, 1e0, 1e1, 1e2, 1e3]\n",
    "    g=np.arange(1e-4,1e-2,0.0001)\n",
    "    g=g.tolist()\n",
    "    param_grid1=dict(kernel=k, C=c, gamma=g)  \n",
    "    grid = GridSearchCV(SVR(), cv=5,param_grid=param_grid1,)\n",
    "    grid.fit(train_x, train_y)   \n",
    "    params = list(grid.best_params_.values())\n",
    "    TunedSVR = SVR(kernel=params[0], C=params[1], gamma=params[2])\n",
    "    TunedSVR.fit(train_x, train_y)\"\"\"\n",
    "    TunedSVR = SVR(kernel='rbf', C=1, gamma=0.10000001)\n",
    "    TunedSVR.fit(X_train, y_train)\n",
    "    editedPredict = TunedSVR.predict(X_test)\n",
    "    editedPredict = editedPredict.clip(min=0)\n",
    "    editedPredict = editedPredict.clip(max=1)\n",
    "    print(\"SVR MSE:\", mean_squared_error(y_test, editedPredict))\n",
    "    \"\"\"print(\"netmhc MSE:\", mse_netmhc)\n",
    "    print(\"netmhcpan MSE:\", mse_netmhcpan)\n",
    "    print(\"smmpmbec_cpp MSE:\", mse_smmpmbec_cpp)\"\"\"\n",
    "    plt.plot(editedPredict, y_test, 'ro')"
   ]
  },
  {
   "cell_type": "code",
   "execution_count": null,
   "metadata": {
    "collapsed": true
   },
   "outputs": [],
   "source": []
  },
  {
   "cell_type": "code",
   "execution_count": 91,
   "metadata": {
    "collapsed": true
   },
   "outputs": [],
   "source": [
    "def xgb_regression(data, target):\n",
    "    X_train, X_test, y_train, y_test = cross_validation.train_test_split(data, target, test_size=0.25, random_state=442)\n",
    "    \n",
    "    xgbr = xgb.XGBRegressor(max_depth=7, learning_rate=0.1, n_estimators=350, silent=False, objective='reg:linear', \n",
    "                            min_child_weight=1, scale_pos_weight = 3, nthread=3)\n",
    "    xgbr.fit(X_train, y_train)\n",
    "    mse = mean_squared_error(y_test, xgbr.predict(X_test))\n",
    "    print(\"MSE: %.4f\" % mse)\n"
   ]
  },
  {
   "cell_type": "code",
   "execution_count": null,
   "metadata": {
    "collapsed": false
   },
   "outputs": [],
   "source": []
  },
  {
   "cell_type": "code",
   "execution_count": 36,
   "metadata": {
    "collapsed": false
   },
   "outputs": [],
   "source": [
    "#xgb_regression(seq2vec9mers_peptides, affinity)\n",
    "#xgb_regression(seq2vec9mers_proteins, affinity)"
   ]
  },
  {
   "cell_type": "code",
   "execution_count": 38,
   "metadata": {
    "collapsed": false
   },
   "outputs": [
    {
     "name": "stdout",
     "output_type": "stream",
     "text": [
      "MSE: 0.0592\n",
      "MSE: 0.0617\n"
     ]
    }
   ],
   "source": [
    "#xgb_regression(OneHot9mers, affinity)\n",
    "#xgb_regression(KideraData, affinity)"
   ]
  },
  {
   "cell_type": "code",
   "execution_count": 41,
   "metadata": {
    "collapsed": false
   },
   "outputs": [
    {
     "name": "stdout",
     "output_type": "stream",
     "text": [
      "MSE: 0.0291\n"
     ]
    }
   ],
   "source": [
    "#xgb_regression(pd.concat([seq2vec9mers_proteins, kMeans_meta_features_prot], axis = 1), affinity)"
   ]
  },
  {
   "cell_type": "code",
   "execution_count": 42,
   "metadata": {
    "collapsed": false
   },
   "outputs": [
    {
     "name": "stdout",
     "output_type": "stream",
     "text": [
      "MSE: 0.0295\n"
     ]
    }
   ],
   "source": [
    "xgb_regression(pd.concat([seq2vec9mers_peptides, kMeans_meta_features_pept], axis = 1), affinity)"
   ]
  },
  {
   "cell_type": "code",
   "execution_count": 45,
   "metadata": {
    "collapsed": false
   },
   "outputs": [
    {
     "name": "stdout",
     "output_type": "stream",
     "text": [
      "MSE: 0.0353\n"
     ]
    }
   ],
   "source": [
    "#xgb_regression(pd.concat([OneHot9mers, kMeans_meta_features_prot], axis = 1), affinity)"
   ]
  },
  {
   "cell_type": "code",
   "execution_count": 93,
   "metadata": {
    "collapsed": false
   },
   "outputs": [
    {
     "name": "stdout",
     "output_type": "stream",
     "text": [
      "MSE: 0.0558\n"
     ]
    }
   ],
   "source": [
    "xgb_regression(blosum9mers, affinity)"
   ]
  },
  {
   "cell_type": "code",
   "execution_count": null,
   "metadata": {
    "collapsed": true
   },
   "outputs": [],
   "source": []
  }
 ],
 "metadata": {
  "anaconda-cloud": {},
  "kernelspec": {
   "display_name": "Python [Root]",
   "language": "python",
   "name": "Python [Root]"
  },
  "language_info": {
   "codemirror_mode": {
    "name": "ipython",
    "version": 3
   },
   "file_extension": ".py",
   "mimetype": "text/x-python",
   "name": "python",
   "nbconvert_exporter": "python",
   "pygments_lexer": "ipython3",
   "version": "3.5.2"
  }
 },
 "nbformat": 4,
 "nbformat_minor": 0
}
