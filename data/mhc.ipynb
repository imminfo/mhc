{
 "cells": [
  {
   "cell_type": "code",
   "execution_count": 48,
   "metadata": {
    "collapsed": false
   },
   "outputs": [],
   "source": [
    "%matplotlib inline\n",
    "\n",
    "import numpy as np\n",
    "import pandas as pd\n",
    "\n",
    "import matplotlib\n",
    "from matplotlib import pyplot as plt\n",
    "import seaborn as sns"
   ]
  },
  {
   "cell_type": "code",
   "execution_count": 12,
   "metadata": {
    "collapsed": false
   },
   "outputs": [
    {
     "data": {
      "text/html": [
       "<div>\n",
       "<table border=\"1\" class=\"dataframe\">\n",
       "  <thead>\n",
       "    <tr style=\"text-align: right;\">\n",
       "      <th></th>\n",
       "      <th>mhc</th>\n",
       "      <th>pseudo</th>\n",
       "    </tr>\n",
       "  </thead>\n",
       "  <tbody>\n",
       "    <tr>\n",
       "      <th>0</th>\n",
       "      <td>HLAA0101</td>\n",
       "      <td>MYFFAVGFVRFMYQERNMAHTDANTLYIQIYRDYIWITKWVAQRYRGY</td>\n",
       "    </tr>\n",
       "    <tr>\n",
       "      <th>1</th>\n",
       "      <td>HLAA0201</td>\n",
       "      <td>MYFFAVGFVRFMYGERKVAHTHVDTLYVQRYHYYIWTTKWAVQLYTWY</td>\n",
       "    </tr>\n",
       "    <tr>\n",
       "      <th>2</th>\n",
       "      <td>HLAA0202</td>\n",
       "      <td>MYFFAVGFVRFMYGERKVAHTHVDTLYLQRYHYYIWTTKWAVQWYTWY</td>\n",
       "    </tr>\n",
       "    <tr>\n",
       "      <th>3</th>\n",
       "      <td>HLAA0203</td>\n",
       "      <td>MYFFAVGFVRFMYGERKVAHTHVDTLYVQRYHYYIWTTKWAEQWYTWY</td>\n",
       "    </tr>\n",
       "    <tr>\n",
       "      <th>4</th>\n",
       "      <td>HLAA0204</td>\n",
       "      <td>MYFFAVGFVRFMYGERKVAHTHVDTLYVQMYHYYIWTTKWAVQLYTWY</td>\n",
       "    </tr>\n",
       "  </tbody>\n",
       "</table>\n",
       "</div>"
      ],
      "text/plain": [
       "        mhc                                            pseudo\n",
       "0  HLAA0101  MYFFAVGFVRFMYQERNMAHTDANTLYIQIYRDYIWITKWVAQRYRGY\n",
       "1  HLAA0201  MYFFAVGFVRFMYGERKVAHTHVDTLYVQRYHYYIWTTKWAVQLYTWY\n",
       "2  HLAA0202  MYFFAVGFVRFMYGERKVAHTHVDTLYLQRYHYYIWTTKWAVQWYTWY\n",
       "3  HLAA0203  MYFFAVGFVRFMYGERKVAHTHVDTLYVQRYHYYIWTTKWAEQWYTWY\n",
       "4  HLAA0204  MYFFAVGFVRFMYGERKVAHTHVDTLYVQMYHYYIWTTKWAVQLYTWY"
      ]
     },
     "execution_count": 12,
     "metadata": {},
     "output_type": "execute_result"
    }
   ],
   "source": [
    "df_nat = pd.read_csv(\"mhc_nature.tsv\", sep=\"\\t\")\n",
    "df_nat[\"mhc\"] = list(map(lambda x: \"HLA\" + x.replace(\"*\", \"\").replace(\":\", \"\"), df_nat[\"mhc\"]))\n",
    "df_nat.head()"
   ]
  },
  {
   "cell_type": "code",
   "execution_count": 6,
   "metadata": {
    "collapsed": false
   },
   "outputs": [
    {
     "data": {
      "text/html": [
       "<div>\n",
       "<table border=\"1\" class=\"dataframe\">\n",
       "  <thead>\n",
       "    <tr style=\"text-align: right;\">\n",
       "      <th></th>\n",
       "      <th>Unnamed: 0</th>\n",
       "      <th>mhc</th>\n",
       "      <th>sequence</th>\n",
       "      <th>pseudo</th>\n",
       "    </tr>\n",
       "  </thead>\n",
       "  <tbody>\n",
       "    <tr>\n",
       "      <th>0</th>\n",
       "      <td>0</td>\n",
       "      <td>HLAA0201</td>\n",
       "      <td>SHSMRYFFTSVSRPGRGEPRFIAVGYVDDTQFVRFDSDAASQRMEP...</td>\n",
       "      <td>FTVEWETVKHSHRDLLRYNMGQADKEHARYLCLL</td>\n",
       "    </tr>\n",
       "    <tr>\n",
       "      <th>1</th>\n",
       "      <td>1</td>\n",
       "      <td>HLAA0211</td>\n",
       "      <td>SHSMRYFFTSVSRPGRGEPRFIAVGYVDDTQFVRFDSDAASQRMEP...</td>\n",
       "      <td>FTVEWETVKHSDRDLLRYNMGQADKEHARYLCLL</td>\n",
       "    </tr>\n",
       "    <tr>\n",
       "      <th>2</th>\n",
       "      <td>2</td>\n",
       "      <td>HLAA2402</td>\n",
       "      <td>SHSMRYFSTSVSRPGRGEPRFIAVGYVDDTQFVRFDSDAASQRMEP...</td>\n",
       "      <td>FTVEWETVKHSDRNLALYNMGQADKEHARYLCLL</td>\n",
       "    </tr>\n",
       "    <tr>\n",
       "      <th>3</th>\n",
       "      <td>3</td>\n",
       "      <td>HLAA8001</td>\n",
       "      <td>SHSMRYFFTSVSRPGRGEPRFIAVGYVDDSQFVQFDSDAASQRMEP...</td>\n",
       "      <td>FTVEWETVKHSNRNLLRYNMGQADKERARYLCLL</td>\n",
       "    </tr>\n",
       "    <tr>\n",
       "      <th>4</th>\n",
       "      <td>4</td>\n",
       "      <td>HLAA3001</td>\n",
       "      <td>SHSMRYFSTSVSRPGSGEPRFIAVGYVDDTQFVRFDSDAASQRMEP...</td>\n",
       "      <td>FTVEWETVKQSDRDLLRYNMGQADQERARYLCLL</td>\n",
       "    </tr>\n",
       "  </tbody>\n",
       "</table>\n",
       "</div>"
      ],
      "text/plain": [
       "   Unnamed: 0       mhc                                           sequence  \\\n",
       "0           0  HLAA0201  SHSMRYFFTSVSRPGRGEPRFIAVGYVDDTQFVRFDSDAASQRMEP...   \n",
       "1           1  HLAA0211  SHSMRYFFTSVSRPGRGEPRFIAVGYVDDTQFVRFDSDAASQRMEP...   \n",
       "2           2  HLAA2402  SHSMRYFSTSVSRPGRGEPRFIAVGYVDDTQFVRFDSDAASQRMEP...   \n",
       "3           3  HLAA8001  SHSMRYFFTSVSRPGRGEPRFIAVGYVDDSQFVQFDSDAASQRMEP...   \n",
       "4           4  HLAA3001  SHSMRYFSTSVSRPGSGEPRFIAVGYVDDTQFVRFDSDAASQRMEP...   \n",
       "\n",
       "                               pseudo  \n",
       "0  FTVEWETVKHSHRDLLRYNMGQADKEHARYLCLL  \n",
       "1  FTVEWETVKHSDRDLLRYNMGQADKEHARYLCLL  \n",
       "2  FTVEWETVKHSDRNLALYNMGQADKEHARYLCLL  \n",
       "3  FTVEWETVKHSNRNLLRYNMGQADKERARYLCLL  \n",
       "4  FTVEWETVKQSDRDLLRYNMGQADQERARYLCLL  "
      ]
     },
     "execution_count": 6,
     "metadata": {},
     "output_type": "execute_result"
    }
   ],
   "source": [
    "df_our = pd.read_csv(\"mhc_seq_imghtla.csv\")\n",
    "df_our.head()"
   ]
  },
  {
   "cell_type": "code",
   "execution_count": 15,
   "metadata": {
    "collapsed": false
   },
   "outputs": [
    {
     "name": "stdout",
     "output_type": "stream",
     "text": [
      "(103, 4)\n",
      "(135, 2)\n"
     ]
    },
    {
     "data": {
      "text/plain": [
       "95"
      ]
     },
     "execution_count": 15,
     "metadata": {},
     "output_type": "execute_result"
    }
   ],
   "source": [
    "print(df_our.shape)\n",
    "print(df_nat.shape)\n",
    "len(set(df_our[\"mhc\"]).intersection(set(df_nat[\"mhc\"])))"
   ]
  },
  {
   "cell_type": "code",
   "execution_count": 17,
   "metadata": {
    "collapsed": false
   },
   "outputs": [
    {
     "data": {
      "text/plain": [
       "{'HLAA7401',\n",
       " 'HLAB1401',\n",
       " 'HLAB4202',\n",
       " 'HLAC0303',\n",
       " 'HLAC0501',\n",
       " 'HLAC0802',\n",
       " 'HLAC1203',\n",
       " 'HLAC1502'}"
      ]
     },
     "execution_count": 17,
     "metadata": {},
     "output_type": "execute_result"
    }
   ],
   "source": [
    "set(df_our[\"mhc\"]).difference(set(df_nat[\"mhc\"]))"
   ]
  },
  {
   "cell_type": "code",
   "execution_count": 18,
   "metadata": {
    "collapsed": false
   },
   "outputs": [
    {
     "data": {
      "text/plain": [
       "{'HLAA0208',\n",
       " 'HLAA0209',\n",
       " 'HLAA0214',\n",
       " 'HLAA3003',\n",
       " 'HLAA3004',\n",
       " 'HLAA3303',\n",
       " 'HLAA6602',\n",
       " 'HLAA6603',\n",
       " 'HLAB1301',\n",
       " 'HLAB1403',\n",
       " 'HLAB1508',\n",
       " 'HLAB1510',\n",
       " 'HLAB1512',\n",
       " 'HLAB1516',\n",
       " 'HLAB2707',\n",
       " 'HLAB2709',\n",
       " 'HLAB3502',\n",
       " 'HLAB3909',\n",
       " 'HLAB3910',\n",
       " 'HLAB4101',\n",
       " 'HLAB4102',\n",
       " 'HLAB4103',\n",
       " 'HLAB4104',\n",
       " 'HLAB4105',\n",
       " 'HLAB4405',\n",
       " 'HLAB4408',\n",
       " 'HLAB4427',\n",
       " 'HLAB4701',\n",
       " 'HLAB4901',\n",
       " 'HLAB5001',\n",
       " 'HLAB5102',\n",
       " 'HLAB5103',\n",
       " 'HLAB5501',\n",
       " 'HLAB5502',\n",
       " 'HLAB5601',\n",
       " 'HLAC0102',\n",
       " 'HLAC0304',\n",
       " 'HLAC0701',\n",
       " 'HLAC0801',\n",
       " 'HLAC1601'}"
      ]
     },
     "execution_count": 18,
     "metadata": {},
     "output_type": "execute_result"
    }
   ],
   "source": [
    "set(df_nat[\"mhc\"]).difference(set(df_our[\"mhc\"]))"
   ]
  },
  {
   "cell_type": "code",
   "execution_count": 27,
   "metadata": {
    "collapsed": false
   },
   "outputs": [
    {
     "data": {
      "text/html": [
       "<div>\n",
       "<table border=\"1\" class=\"dataframe\">\n",
       "  <thead>\n",
       "    <tr style=\"text-align: right;\">\n",
       "      <th></th>\n",
       "      <th>Freq</th>\n",
       "      <th>Thr</th>\n",
       "      <th>mhc</th>\n",
       "    </tr>\n",
       "  </thead>\n",
       "  <tbody>\n",
       "    <tr>\n",
       "      <th>0</th>\n",
       "      <td>16.2</td>\n",
       "      <td>884</td>\n",
       "      <td>HLAA0101</td>\n",
       "    </tr>\n",
       "    <tr>\n",
       "      <th>1</th>\n",
       "      <td>25.2</td>\n",
       "      <td>255</td>\n",
       "      <td>HLAA0201</td>\n",
       "    </tr>\n",
       "    <tr>\n",
       "      <th>2</th>\n",
       "      <td>3.3</td>\n",
       "      <td>92</td>\n",
       "      <td>HLAA0203</td>\n",
       "    </tr>\n",
       "    <tr>\n",
       "      <th>3</th>\n",
       "      <td>4.9</td>\n",
       "      <td>60</td>\n",
       "      <td>HLAA0206</td>\n",
       "    </tr>\n",
       "    <tr>\n",
       "      <th>4</th>\n",
       "      <td>15.4</td>\n",
       "      <td>602</td>\n",
       "      <td>HLAA0301</td>\n",
       "    </tr>\n",
       "    <tr>\n",
       "      <th>5</th>\n",
       "      <td>12.9</td>\n",
       "      <td>382</td>\n",
       "      <td>HLAA1101</td>\n",
       "    </tr>\n",
       "    <tr>\n",
       "      <th>6</th>\n",
       "      <td>6.4</td>\n",
       "      <td>740</td>\n",
       "      <td>HLAA2301</td>\n",
       "    </tr>\n",
       "    <tr>\n",
       "      <th>7</th>\n",
       "      <td>16.8</td>\n",
       "      <td>849</td>\n",
       "      <td>HLAA2402</td>\n",
       "    </tr>\n",
       "    <tr>\n",
       "      <th>8</th>\n",
       "      <td>2.5</td>\n",
       "      <td>795</td>\n",
       "      <td>HLAA2501</td>\n",
       "    </tr>\n",
       "    <tr>\n",
       "      <th>9</th>\n",
       "      <td>4.7</td>\n",
       "      <td>815</td>\n",
       "      <td>HLAA2601</td>\n",
       "    </tr>\n",
       "    <tr>\n",
       "      <th>10</th>\n",
       "      <td>2.9</td>\n",
       "      <td>641</td>\n",
       "      <td>HLAA2902</td>\n",
       "    </tr>\n",
       "    <tr>\n",
       "      <th>11</th>\n",
       "      <td>5.1</td>\n",
       "      <td>109</td>\n",
       "      <td>HLAA3001</td>\n",
       "    </tr>\n",
       "    <tr>\n",
       "      <th>12</th>\n",
       "      <td>5.0</td>\n",
       "      <td>674</td>\n",
       "      <td>HLAA3002</td>\n",
       "    </tr>\n",
       "    <tr>\n",
       "      <th>13</th>\n",
       "      <td>4.7</td>\n",
       "      <td>329</td>\n",
       "      <td>HLAA3101</td>\n",
       "    </tr>\n",
       "    <tr>\n",
       "      <th>14</th>\n",
       "      <td>5.7</td>\n",
       "      <td>131</td>\n",
       "      <td>HLAA3201</td>\n",
       "    </tr>\n",
       "    <tr>\n",
       "      <th>15</th>\n",
       "      <td>3.2</td>\n",
       "      <td>606</td>\n",
       "      <td>HLAA3301</td>\n",
       "    </tr>\n",
       "    <tr>\n",
       "      <th>16</th>\n",
       "      <td>4.6</td>\n",
       "      <td>197</td>\n",
       "      <td>HLAA6801</td>\n",
       "    </tr>\n",
       "    <tr>\n",
       "      <th>17</th>\n",
       "      <td>3.3</td>\n",
       "      <td>259</td>\n",
       "      <td>HLAA6802</td>\n",
       "    </tr>\n",
       "    <tr>\n",
       "      <th>18</th>\n",
       "      <td>13.3</td>\n",
       "      <td>687</td>\n",
       "      <td>HLAB0702</td>\n",
       "    </tr>\n",
       "    <tr>\n",
       "      <th>19</th>\n",
       "      <td>11.5</td>\n",
       "      <td>663</td>\n",
       "      <td>HLAB0801</td>\n",
       "    </tr>\n",
       "    <tr>\n",
       "      <th>20</th>\n",
       "      <td>2.8</td>\n",
       "      <td>700</td>\n",
       "      <td>HLAB1402</td>\n",
       "    </tr>\n",
       "    <tr>\n",
       "      <th>21</th>\n",
       "      <td>5.2</td>\n",
       "      <td>528</td>\n",
       "      <td>HLAB1501</td>\n",
       "    </tr>\n",
       "    <tr>\n",
       "      <th>22</th>\n",
       "      <td>4.4</td>\n",
       "      <td>732</td>\n",
       "      <td>HLAB1801</td>\n",
       "    </tr>\n",
       "    <tr>\n",
       "      <th>23</th>\n",
       "      <td>2.0</td>\n",
       "      <td>584</td>\n",
       "      <td>HLAB2705</td>\n",
       "    </tr>\n",
       "    <tr>\n",
       "      <th>24</th>\n",
       "      <td>6.5</td>\n",
       "      <td>348</td>\n",
       "      <td>HLAB3501</td>\n",
       "    </tr>\n",
       "    <tr>\n",
       "      <th>25</th>\n",
       "      <td>1.2</td>\n",
       "      <td>888</td>\n",
       "      <td>HLAB3503</td>\n",
       "    </tr>\n",
       "    <tr>\n",
       "      <th>26</th>\n",
       "      <td>2.0</td>\n",
       "      <td>944</td>\n",
       "      <td>HLAB3801</td>\n",
       "    </tr>\n",
       "    <tr>\n",
       "      <th>27</th>\n",
       "      <td>2.9</td>\n",
       "      <td>542</td>\n",
       "      <td>HLAB3901</td>\n",
       "    </tr>\n",
       "    <tr>\n",
       "      <th>28</th>\n",
       "      <td>10.3</td>\n",
       "      <td>639</td>\n",
       "      <td>HLAB4001</td>\n",
       "    </tr>\n",
       "    <tr>\n",
       "      <th>29</th>\n",
       "      <td>3.5</td>\n",
       "      <td>590</td>\n",
       "      <td>HLAB4002</td>\n",
       "    </tr>\n",
       "    <tr>\n",
       "      <th>30</th>\n",
       "      <td>9.2</td>\n",
       "      <td>904</td>\n",
       "      <td>HLAB4402</td>\n",
       "    </tr>\n",
       "    <tr>\n",
       "      <th>31</th>\n",
       "      <td>7.6</td>\n",
       "      <td>780</td>\n",
       "      <td>HLAB4403</td>\n",
       "    </tr>\n",
       "    <tr>\n",
       "      <th>32</th>\n",
       "      <td>4.0</td>\n",
       "      <td>926</td>\n",
       "      <td>HLAB4601</td>\n",
       "    </tr>\n",
       "    <tr>\n",
       "      <th>33</th>\n",
       "      <td>1.8</td>\n",
       "      <td>887</td>\n",
       "      <td>HLAB4801</td>\n",
       "    </tr>\n",
       "    <tr>\n",
       "      <th>34</th>\n",
       "      <td>5.5</td>\n",
       "      <td>939</td>\n",
       "      <td>HLAB5101</td>\n",
       "    </tr>\n",
       "    <tr>\n",
       "      <th>35</th>\n",
       "      <td>5.4</td>\n",
       "      <td>538</td>\n",
       "      <td>HLAB5301</td>\n",
       "    </tr>\n",
       "    <tr>\n",
       "      <th>36</th>\n",
       "      <td>3.2</td>\n",
       "      <td>716</td>\n",
       "      <td>HLAB5701</td>\n",
       "    </tr>\n",
       "    <tr>\n",
       "      <th>37</th>\n",
       "      <td>3.6</td>\n",
       "      <td>446</td>\n",
       "      <td>HLAB5801</td>\n",
       "    </tr>\n",
       "  </tbody>\n",
       "</table>\n",
       "</div>"
      ],
      "text/plain": [
       "    Freq  Thr       mhc\n",
       "0   16.2  884  HLAA0101\n",
       "1   25.2  255  HLAA0201\n",
       "2    3.3   92  HLAA0203\n",
       "3    4.9   60  HLAA0206\n",
       "4   15.4  602  HLAA0301\n",
       "5   12.9  382  HLAA1101\n",
       "6    6.4  740  HLAA2301\n",
       "7   16.8  849  HLAA2402\n",
       "8    2.5  795  HLAA2501\n",
       "9    4.7  815  HLAA2601\n",
       "10   2.9  641  HLAA2902\n",
       "11   5.1  109  HLAA3001\n",
       "12   5.0  674  HLAA3002\n",
       "13   4.7  329  HLAA3101\n",
       "14   5.7  131  HLAA3201\n",
       "15   3.2  606  HLAA3301\n",
       "16   4.6  197  HLAA6801\n",
       "17   3.3  259  HLAA6802\n",
       "18  13.3  687  HLAB0702\n",
       "19  11.5  663  HLAB0801\n",
       "20   2.8  700  HLAB1402\n",
       "21   5.2  528  HLAB1501\n",
       "22   4.4  732  HLAB1801\n",
       "23   2.0  584  HLAB2705\n",
       "24   6.5  348  HLAB3501\n",
       "25   1.2  888  HLAB3503\n",
       "26   2.0  944  HLAB3801\n",
       "27   2.9  542  HLAB3901\n",
       "28  10.3  639  HLAB4001\n",
       "29   3.5  590  HLAB4002\n",
       "30   9.2  904  HLAB4402\n",
       "31   7.6  780  HLAB4403\n",
       "32   4.0  926  HLAB4601\n",
       "33   1.8  887  HLAB4801\n",
       "34   5.5  939  HLAB5101\n",
       "35   5.4  538  HLAB5301\n",
       "36   3.2  716  HLAB5701\n",
       "37   3.6  446  HLAB5801"
      ]
     },
     "execution_count": 27,
     "metadata": {},
     "output_type": "execute_result"
    }
   ],
   "source": [
    "df_thr = pd.read_table(\"bind_thr.txt\")\n",
    "df_thr[\"mhc\"] = list(map(lambda x: \"HLA\" + x.replace(\"*\", \"\").replace(\":\", \"\"), df_thr[\"Allele\"]))\n",
    "df_thr.drop(\"Allele\", 1, inplace=True)\n",
    "df_thr"
   ]
  },
  {
   "cell_type": "code",
   "execution_count": 78,
   "metadata": {
    "collapsed": false
   },
   "outputs": [
    {
     "data": {
      "text/plain": [
       "array([[ 1.        ,  3.46666667,  9.60869565, ...,  1.64312268,\n",
       "         1.23463687,  1.98206278],\n",
       "       [ 0.        ,  1.        ,  2.77173913, ...,  0.4739777 ,\n",
       "         0.35614525,  0.57174888],\n",
       "       [ 0.        ,  0.        ,  1.        , ...,  0.17100372,\n",
       "         0.12849162,  0.20627803],\n",
       "       ..., \n",
       "       [ 0.        ,  0.        ,  0.        , ...,  1.        ,\n",
       "         0.75139665,  1.20627803],\n",
       "       [ 0.        ,  0.        ,  0.        , ...,  0.        ,\n",
       "         1.        ,  1.60538117],\n",
       "       [ 0.        ,  0.        ,  0.        , ...,  0.        ,\n",
       "         0.        ,  1.        ]])"
      ]
     },
     "execution_count": 78,
     "metadata": {},
     "output_type": "execute_result"
    }
   ],
   "source": [
    "def hamm(seq1, seq2):\n",
    "    res = 0\n",
    "    for a,b in zip(seq1, seq2):\n",
    "        res += a != b\n",
    "    return res\n",
    "\n",
    "\n",
    "dist = np.zeros((df_thr.shape[0], df_thr.shape[0]))\n",
    "diff = np.zeros((df_thr.shape[0], df_thr.shape[0]))\n",
    "for i in range(dist.shape[0]):\n",
    "    for j in range(i, dist.shape[0]):\n",
    "        seq1 = df_nat.ix[df_nat[\"mhc\"] == df_thr[\"mhc\"][i], \"pseudo\"].iloc[0]\n",
    "        seq2 = df_nat.ix[df_nat[\"mhc\"] == df_thr[\"mhc\"][j], \"pseudo\"].iloc[0]\n",
    "        dist[i,j] = hamm(seq1, seq2)\n",
    "#         dist[j,i] = dist[i,j]\n",
    "        diff[i,j] = df_thr[\"Thr\"][i] / df_thr[\"Thr\"][j]\n",
    "#         diff[j,i] = diff[i,j]\n",
    "        \n",
    "diff"
   ]
  },
  {
   "cell_type": "code",
   "execution_count": 81,
   "metadata": {
    "collapsed": false
   },
   "outputs": [
    {
     "data": {
      "text/plain": [
       "<matplotlib.collections.PathCollection at 0x7fcc52ed5c88>"
      ]
     },
     "execution_count": 81,
     "metadata": {},
     "output_type": "execute_result"
    },
    {
     "data": {
      "image/png": "[encoded data removed]",
      "text/plain": [
       "<matplotlib.figure.Figure at 0x7fcc52f459b0>"
      ]
     },
     "metadata": {},
     "output_type": "display_data"
    }
   ],
   "source": [
    "plt.scatter(dist, diff)"
   ]
  },
  {
   "cell_type": "code",
   "execution_count": null,
   "metadata": {
    "collapsed": true
   },
   "outputs": [],
   "source": []
  }
 ],
 "metadata": {
  "kernelspec": {
   "display_name": "Python [conda root]",
   "language": "python",
   "name": "conda-root-py"
  },
  "language_info": {
   "codemirror_mode": {
    "name": "ipython",
    "version": 3
   },
   "file_extension": ".py",
   "mimetype": "text/x-python",
   "name": "python",
   "nbconvert_exporter": "python",
   "pygments_lexer": "ipython3",
   "version": "3.5.2"
  }
 },
 "nbformat": 4,
 "nbformat_minor": 1
}
