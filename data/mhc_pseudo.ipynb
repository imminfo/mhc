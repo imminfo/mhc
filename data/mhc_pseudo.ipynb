{
 "cells": [
  {
   "cell_type": "code",
   "execution_count": 2,
   "metadata": {
    "collapsed": true
   },
   "outputs": [],
   "source": [
    "import pandas as pd"
   ]
  },
  {
   "cell_type": "code",
   "execution_count": 12,
   "metadata": {
    "collapsed": false
   },
   "outputs": [
    {
     "data": {
      "text/html": [
       "<div>\n",
       "<table border=\"1\" class=\"dataframe\">\n",
       "  <thead>\n",
       "    <tr style=\"text-align: right;\">\n",
       "      <th></th>\n",
       "      <th>mhc</th>\n",
       "      <th>pseudo</th>\n",
       "    </tr>\n",
       "  </thead>\n",
       "  <tbody>\n",
       "    <tr>\n",
       "      <th>0</th>\n",
       "      <td>HLAA0101</td>\n",
       "      <td>MYFFAVGFVRFMYQERNMAHTDANTLYIQIYRDYIWITKWVAQRYRGY</td>\n",
       "    </tr>\n",
       "    <tr>\n",
       "      <th>1</th>\n",
       "      <td>HLAA0201</td>\n",
       "      <td>MYFFAVGFVRFMYGERKVAHTHVDTLYVQRYHYYIWTTKWAVQLYTWY</td>\n",
       "    </tr>\n",
       "    <tr>\n",
       "      <th>2</th>\n",
       "      <td>HLAA0202</td>\n",
       "      <td>MYFFAVGFVRFMYGERKVAHTHVDTLYLQRYHYYIWTTKWAVQWYTWY</td>\n",
       "    </tr>\n",
       "    <tr>\n",
       "      <th>3</th>\n",
       "      <td>HLAA0203</td>\n",
       "      <td>MYFFAVGFVRFMYGERKVAHTHVDTLYVQRYHYYIWTTKWAEQWYTWY</td>\n",
       "    </tr>\n",
       "    <tr>\n",
       "      <th>4</th>\n",
       "      <td>HLAA0204</td>\n",
       "      <td>MYFFAVGFVRFMYGERKVAHTHVDTLYVQMYHYYIWTTKWAVQLYTWY</td>\n",
       "    </tr>\n",
       "  </tbody>\n",
       "</table>\n",
       "</div>"
      ],
      "text/plain": [
       "        mhc                                            pseudo\n",
       "0  HLAA0101  MYFFAVGFVRFMYQERNMAHTDANTLYIQIYRDYIWITKWVAQRYRGY\n",
       "1  HLAA0201  MYFFAVGFVRFMYGERKVAHTHVDTLYVQRYHYYIWTTKWAVQLYTWY\n",
       "2  HLAA0202  MYFFAVGFVRFMYGERKVAHTHVDTLYLQRYHYYIWTTKWAVQWYTWY\n",
       "3  HLAA0203  MYFFAVGFVRFMYGERKVAHTHVDTLYVQRYHYYIWTTKWAEQWYTWY\n",
       "4  HLAA0204  MYFFAVGFVRFMYGERKVAHTHVDTLYVQMYHYYIWTTKWAVQLYTWY"
      ]
     },
     "execution_count": 12,
     "metadata": {},
     "output_type": "execute_result"
    }
   ],
   "source": [
    "df_nat = pd.read_csv(\"mhc_nature.tsv\", sep=\"\\t\")\n",
    "df_nat[\"mhc\"] = list(map(lambda x: \"HLA\" + x.replace(\"*\", \"\").replace(\":\", \"\"), df_nat[\"mhc\"]))\n",
    "df_nat.head()"
   ]
  },
  {
   "cell_type": "code",
   "execution_count": 6,
   "metadata": {
    "collapsed": false
   },
   "outputs": [
    {
     "data": {
      "text/html": [
       "<div>\n",
       "<table border=\"1\" class=\"dataframe\">\n",
       "  <thead>\n",
       "    <tr style=\"text-align: right;\">\n",
       "      <th></th>\n",
       "      <th>Unnamed: 0</th>\n",
       "      <th>mhc</th>\n",
       "      <th>sequence</th>\n",
       "      <th>pseudo</th>\n",
       "    </tr>\n",
       "  </thead>\n",
       "  <tbody>\n",
       "    <tr>\n",
       "      <th>0</th>\n",
       "      <td>0</td>\n",
       "      <td>HLAA0201</td>\n",
       "      <td>SHSMRYFFTSVSRPGRGEPRFIAVGYVDDTQFVRFDSDAASQRMEP...</td>\n",
       "      <td>FTVEWETVKHSHRDLLRYNMGQADKEHARYLCLL</td>\n",
       "    </tr>\n",
       "    <tr>\n",
       "      <th>1</th>\n",
       "      <td>1</td>\n",
       "      <td>HLAA0211</td>\n",
       "      <td>SHSMRYFFTSVSRPGRGEPRFIAVGYVDDTQFVRFDSDAASQRMEP...</td>\n",
       "      <td>FTVEWETVKHSDRDLLRYNMGQADKEHARYLCLL</td>\n",
       "    </tr>\n",
       "    <tr>\n",
       "      <th>2</th>\n",
       "      <td>2</td>\n",
       "      <td>HLAA2402</td>\n",
       "      <td>SHSMRYFSTSVSRPGRGEPRFIAVGYVDDTQFVRFDSDAASQRMEP...</td>\n",
       "      <td>FTVEWETVKHSDRNLALYNMGQADKEHARYLCLL</td>\n",
       "    </tr>\n",
       "    <tr>\n",
       "      <th>3</th>\n",
       "      <td>3</td>\n",
       "      <td>HLAA8001</td>\n",
       "      <td>SHSMRYFFTSVSRPGRGEPRFIAVGYVDDSQFVQFDSDAASQRMEP...</td>\n",
       "      <td>FTVEWETVKHSNRNLLRYNMGQADKERARYLCLL</td>\n",
       "    </tr>\n",
       "    <tr>\n",
       "      <th>4</th>\n",
       "      <td>4</td>\n",
       "      <td>HLAA3001</td>\n",
       "      <td>SHSMRYFSTSVSRPGSGEPRFIAVGYVDDTQFVRFDSDAASQRMEP...</td>\n",
       "      <td>FTVEWETVKQSDRDLLRYNMGQADQERARYLCLL</td>\n",
       "    </tr>\n",
       "  </tbody>\n",
       "</table>\n",
       "</div>"
      ],
      "text/plain": [
       "   Unnamed: 0       mhc                                           sequence  \\\n",
       "0           0  HLAA0201  SHSMRYFFTSVSRPGRGEPRFIAVGYVDDTQFVRFDSDAASQRMEP...   \n",
       "1           1  HLAA0211  SHSMRYFFTSVSRPGRGEPRFIAVGYVDDTQFVRFDSDAASQRMEP...   \n",
       "2           2  HLAA2402  SHSMRYFSTSVSRPGRGEPRFIAVGYVDDTQFVRFDSDAASQRMEP...   \n",
       "3           3  HLAA8001  SHSMRYFFTSVSRPGRGEPRFIAVGYVDDSQFVQFDSDAASQRMEP...   \n",
       "4           4  HLAA3001  SHSMRYFSTSVSRPGSGEPRFIAVGYVDDTQFVRFDSDAASQRMEP...   \n",
       "\n",
       "                               pseudo  \n",
       "0  FTVEWETVKHSHRDLLRYNMGQADKEHARYLCLL  \n",
       "1  FTVEWETVKHSDRDLLRYNMGQADKEHARYLCLL  \n",
       "2  FTVEWETVKHSDRNLALYNMGQADKEHARYLCLL  \n",
       "3  FTVEWETVKHSNRNLLRYNMGQADKERARYLCLL  \n",
       "4  FTVEWETVKQSDRDLLRYNMGQADQERARYLCLL  "
      ]
     },
     "execution_count": 6,
     "metadata": {},
     "output_type": "execute_result"
    }
   ],
   "source": [
    "df_our = pd.read_csv(\"mhc_seq_imghtla.csv\")\n",
    "df_our.head()"
   ]
  },
  {
   "cell_type": "code",
   "execution_count": 15,
   "metadata": {
    "collapsed": false
   },
   "outputs": [
    {
     "name": "stdout",
     "output_type": "stream",
     "text": [
      "(103, 4)\n",
      "(135, 2)\n"
     ]
    },
    {
     "data": {
      "text/plain": [
       "95"
      ]
     },
     "execution_count": 15,
     "metadata": {},
     "output_type": "execute_result"
    }
   ],
   "source": [
    "print(df_our.shape)\n",
    "print(df_nat.shape)\n",
    "len(set(df_our[\"mhc\"]).intersection(set(df_nat[\"mhc\"])))"
   ]
  },
  {
   "cell_type": "code",
   "execution_count": 17,
   "metadata": {
    "collapsed": false
   },
   "outputs": [
    {
     "data": {
      "text/plain": [
       "{'HLAA7401',\n",
       " 'HLAB1401',\n",
       " 'HLAB4202',\n",
       " 'HLAC0303',\n",
       " 'HLAC0501',\n",
       " 'HLAC0802',\n",
       " 'HLAC1203',\n",
       " 'HLAC1502'}"
      ]
     },
     "execution_count": 17,
     "metadata": {},
     "output_type": "execute_result"
    }
   ],
   "source": [
    "set(df_our[\"mhc\"]).difference(set(df_nat[\"mhc\"]))"
   ]
  },
  {
   "cell_type": "code",
   "execution_count": 18,
   "metadata": {
    "collapsed": false
   },
   "outputs": [
    {
     "data": {
      "text/plain": [
       "{'HLAA0208',\n",
       " 'HLAA0209',\n",
       " 'HLAA0214',\n",
       " 'HLAA3003',\n",
       " 'HLAA3004',\n",
       " 'HLAA3303',\n",
       " 'HLAA6602',\n",
       " 'HLAA6603',\n",
       " 'HLAB1301',\n",
       " 'HLAB1403',\n",
       " 'HLAB1508',\n",
       " 'HLAB1510',\n",
       " 'HLAB1512',\n",
       " 'HLAB1516',\n",
       " 'HLAB2707',\n",
       " 'HLAB2709',\n",
       " 'HLAB3502',\n",
       " 'HLAB3909',\n",
       " 'HLAB3910',\n",
       " 'HLAB4101',\n",
       " 'HLAB4102',\n",
       " 'HLAB4103',\n",
       " 'HLAB4104',\n",
       " 'HLAB4105',\n",
       " 'HLAB4405',\n",
       " 'HLAB4408',\n",
       " 'HLAB4427',\n",
       " 'HLAB4701',\n",
       " 'HLAB4901',\n",
       " 'HLAB5001',\n",
       " 'HLAB5102',\n",
       " 'HLAB5103',\n",
       " 'HLAB5501',\n",
       " 'HLAB5502',\n",
       " 'HLAB5601',\n",
       " 'HLAC0102',\n",
       " 'HLAC0304',\n",
       " 'HLAC0701',\n",
       " 'HLAC0801',\n",
       " 'HLAC1601'}"
      ]
     },
     "execution_count": 18,
     "metadata": {},
     "output_type": "execute_result"
    }
   ],
   "source": [
    "set(df_nat[\"mhc\"]).difference(set(df_our[\"mhc\"]))"
   ]
  }
 ],
 "metadata": {
  "kernelspec": {
   "display_name": "Python [conda root]",
   "language": "python",
   "name": "conda-root-py"
  },
  "language_info": {
   "codemirror_mode": {
    "name": "ipython",
    "version": 3
   },
   "file_extension": ".py",
   "mimetype": "text/x-python",
   "name": "python",
   "nbconvert_exporter": "python",
   "pygments_lexer": "ipython3",
   "version": "3.5.2"
  }
 },
 "nbformat": 4,
 "nbformat_minor": 1
}
