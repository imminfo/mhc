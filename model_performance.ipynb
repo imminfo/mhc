{
 "cells": [
  {
   "cell_type": "code",
   "execution_count": 54,
   "metadata": {
    "collapsed": true
   },
   "outputs": [],
   "source": [
    "import pandas as pd\n",
    "import numpy as np\n",
    "import math\n",
    "from sklearn import metrics"
   ]
  },
  {
   "cell_type": "code",
   "execution_count": 51,
   "metadata": {
    "collapsed": true
   },
   "outputs": [],
   "source": [
    "def log_meas(current):\n",
    "    new_meas = 1 - math.log(current, 50000.0)\n",
    "    if new_meas > 1: new_meas = 1\n",
    "    if new_meas < 0: new_meas = 0\n",
    "    return new_meas\n",
    "\n",
    "def log_df(data):\n",
    "    new_data = data.copy(deep=True)\n",
    "    for i in new_data.columns:\n",
    "        new_data[i] = [log_meas(j) for j in new_data[i]]\n",
    "    return new_data"
   ]
  },
  {
   "cell_type": "code",
   "execution_count": 52,
   "metadata": {
    "collapsed": false
   },
   "outputs": [],
   "source": [
    "performance_data = pd.read_csv(\"models` performance.csv\")\n",
    "performance_data = performance_data[performance_data.length == 9].drop([\"Unnamed: 0\", \"sequence\", \"length\"], axis = 1)"
   ]
  },
  {
   "cell_type": "code",
   "execution_count": 53,
   "metadata": {
    "collapsed": false
   },
   "outputs": [
    {
     "data": {
      "text/html": [
       "<div>\n",
       "<table border=\"1\" class=\"dataframe\">\n",
       "  <thead>\n",
       "    <tr style=\"text-align: right;\">\n",
       "      <th></th>\n",
       "      <th>meas</th>\n",
       "      <th>netmhc</th>\n",
       "      <th>netmhcpan</th>\n",
       "      <th>smmpmbec_cpp</th>\n",
       "    </tr>\n",
       "  </thead>\n",
       "  <tbody>\n",
       "    <tr>\n",
       "      <th>27675</th>\n",
       "      <td>0.747391</td>\n",
       "      <td>0.434557</td>\n",
       "      <td>0.605658</td>\n",
       "      <td>0.567139</td>\n",
       "    </tr>\n",
       "    <tr>\n",
       "      <th>27676</th>\n",
       "      <td>0.022339</td>\n",
       "      <td>0.293037</td>\n",
       "      <td>0.202166</td>\n",
       "      <td>0.371139</td>\n",
       "    </tr>\n",
       "    <tr>\n",
       "      <th>27677</th>\n",
       "      <td>0.028511</td>\n",
       "      <td>0.283247</td>\n",
       "      <td>0.148324</td>\n",
       "      <td>0.273245</td>\n",
       "    </tr>\n",
       "    <tr>\n",
       "      <th>27678</th>\n",
       "      <td>0.141940</td>\n",
       "      <td>0.079586</td>\n",
       "      <td>0.195356</td>\n",
       "      <td>0.143642</td>\n",
       "    </tr>\n",
       "    <tr>\n",
       "      <th>27679</th>\n",
       "      <td>0.535430</td>\n",
       "      <td>0.496485</td>\n",
       "      <td>0.389441</td>\n",
       "      <td>0.569267</td>\n",
       "    </tr>\n",
       "  </tbody>\n",
       "</table>\n",
       "</div>"
      ],
      "text/plain": [
       "           meas    netmhc  netmhcpan  smmpmbec_cpp\n",
       "27675  0.747391  0.434557   0.605658      0.567139\n",
       "27676  0.022339  0.293037   0.202166      0.371139\n",
       "27677  0.028511  0.283247   0.148324      0.273245\n",
       "27678  0.141940  0.079586   0.195356      0.143642\n",
       "27679  0.535430  0.496485   0.389441      0.569267"
      ]
     },
     "execution_count": 53,
     "metadata": {},
     "output_type": "execute_result"
    }
   ],
   "source": [
    "logged_perf = log_df(performance_data)\n",
    "logged_perf.tail()"
   ]
  },
  {
   "cell_type": "code",
   "execution_count": 57,
   "metadata": {
    "collapsed": false
   },
   "outputs": [
    {
     "name": "stdout",
     "output_type": "stream",
     "text": [
      "0.0261240093427\n"
     ]
    }
   ],
   "source": [
    "print(metrics.mean_squared_error(logged_perf.netmhc, logged_perf.meas))"
   ]
  },
  {
   "cell_type": "code",
   "execution_count": 59,
   "metadata": {
    "collapsed": false
   },
   "outputs": [
    {
     "name": "stdout",
     "output_type": "stream",
     "text": [
      "0.0251776608622\n"
     ]
    }
   ],
   "source": [
    "print(metrics.mean_squared_error(logged_perf.netmhcpan, logged_perf.meas))"
   ]
  },
  {
   "cell_type": "code",
   "execution_count": 58,
   "metadata": {
    "collapsed": false
   },
   "outputs": [
    {
     "name": "stdout",
     "output_type": "stream",
     "text": [
      "0.0300394502946\n"
     ]
    }
   ],
   "source": [
    "print(metrics.mean_squared_error(logged_perf.smmpmbec_cpp, logged_perf.meas))"
   ]
  },
  {
   "cell_type": "code",
   "execution_count": null,
   "metadata": {
    "collapsed": true
   },
   "outputs": [],
   "source": []
  }
 ],
 "metadata": {
  "anaconda-cloud": {},
  "kernelspec": {
   "display_name": "Python [Root]",
   "language": "python",
   "name": "Python [Root]"
  },
  "language_info": {
   "codemirror_mode": {
    "name": "ipython",
    "version": 3
   },
   "file_extension": ".py",
   "mimetype": "text/x-python",
   "name": "python",
   "nbconvert_exporter": "python",
   "pygments_lexer": "ipython3",
   "version": "3.5.2"
  }
 },
 "nbformat": 4,
 "nbformat_minor": 0
}
