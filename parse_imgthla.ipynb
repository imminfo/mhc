{
 "cells": [
  {
   "cell_type": "code",
   "execution_count": 185,
   "metadata": {
    "collapsed": true
   },
   "outputs": [],
   "source": [
    "import pandas as pd\n",
    "import re\n",
    "import numpy as np\n",
    "\n",
    "from Bio import SeqIO"
   ]
  },
  {
   "cell_type": "code",
   "execution_count": 186,
   "metadata": {
    "collapsed": false,
    "scrolled": true
   },
   "outputs": [],
   "source": [
    "def get_proteins_for_embedding(data_path):\n",
    "    \"\"\"Parse protein sequences from fasta file and process it in specific way with func\n",
    "\n",
    "    Arguments:\n",
    "    \n",
    "    data_path - path where fasta file is\n",
    "    func - process func for sequences(extract 3gams i.e)\n",
    "    \"\"\"\n",
    "\n",
    "    dict_of_sequences = {}\n",
    "    for seq_record in SeqIO.parse(data_path, \"fasta\"):\n",
    "        mhc = \"HLA\" + re.sub('[*|:|-]', '', seq_record.description[13:21]).strip()\n",
    "        dict_of_sequences[mhc] = str(seq_record.seq)\n",
    "    \n",
    "    return pd.DataFrame({\"mhc\": list(dict_of_sequences.keys()), \"sequence\": list(dict_of_sequences.values())})"
   ]
  },
  {
   "cell_type": "code",
   "execution_count": 187,
   "metadata": {
    "collapsed": false
   },
   "outputs": [],
   "source": [
    "A_gen = get_proteins_for_embedding(\"/home/rude_mhc/IMGTHLA/fasta/A_prot.fasta\")\n",
    "B_gen = get_proteins_for_embedding(\"/home/rude_mhc/IMGTHLA/fasta/B_prot.fasta\")\n",
    "C_gen = get_proteins_for_embedding(\"/home/rude_mhc/IMGTHLA/fasta/C_prot.fasta\")\n",
    "E_gen = get_proteins_for_embedding(\"/home/rude_mhc/IMGTHLA/fasta/E_prot.fasta\")\n",
    "bdata = pd.read_csv(\"/home/rude_mhc/mhc/bdata.csv\")"
   ]
  },
  {
   "cell_type": "code",
   "execution_count": 188,
   "metadata": {
    "collapsed": false
   },
   "outputs": [],
   "source": [
    "ABCE_gen = pd.concat([A_gen, B_gen, C_gen, E_gen], axis = 0).reset_index(drop=True)\n",
    "common = set(bdata.mhc.unique()).intersection(ABCE_gen.mhc.unique())"
   ]
  },
  {
   "cell_type": "code",
   "execution_count": 189,
   "metadata": {
    "collapsed": false
   },
   "outputs": [],
   "source": [
    "common_ABCE = ABCE_gen.iloc[np.array(np.where(ABCE_gen.mhc.apply(lambda x: x in common))).flatten()].reset_index(drop=True)"
   ]
  },
  {
   "cell_type": "code",
   "execution_count": 191,
   "metadata": {
    "collapsed": false
   },
   "outputs": [],
   "source": [
    "common_ABCE.to_csv(\"mhc_seq_imghtla.csv\", index=False)"
   ]
  },
  {
   "cell_type": "code",
   "execution_count": null,
   "metadata": {
    "collapsed": false
   },
   "outputs": [],
   "source": []
  },
  {
   "cell_type": "code",
   "execution_count": null,
   "metadata": {
    "collapsed": false
   },
   "outputs": [],
   "source": []
  },
  {
   "cell_type": "code",
   "execution_count": null,
   "metadata": {
    "collapsed": true
   },
   "outputs": [],
   "source": []
  }
 ],
 "metadata": {
  "anaconda-cloud": {},
  "kernelspec": {
   "display_name": "Python [default]",
   "language": "python",
   "name": "python3"
  },
  "language_info": {
   "codemirror_mode": {
    "name": "ipython",
    "version": 3
   },
   "file_extension": ".py",
   "mimetype": "text/x-python",
   "name": "python",
   "nbconvert_exporter": "python",
   "pygments_lexer": "ipython3",
   "version": "3.5.2"
  }
 },
 "nbformat": 4,
 "nbformat_minor": 0
}
